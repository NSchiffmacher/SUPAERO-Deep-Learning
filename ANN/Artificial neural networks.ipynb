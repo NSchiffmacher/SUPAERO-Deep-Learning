{
 "cells": [
  {
   "cell_type": "markdown",
   "metadata": {
    "slideshow": {
     "slide_type": "-"
    }
   },
   "source": [
    "<a rel=\"license\" href=\"http://creativecommons.org/licenses/by-nc-sa/4.0/\"><img alt=\"Creative Commons License\" align=\"left\" src=\"https://i.creativecommons.org/l/by-nc-sa/4.0/80x15.png\" /></a>&nbsp;| [Emmanuel Rachelson](https://personnel.isae-supaero.fr/emmanuel-rachelson?lang=en) | <a href=\"https://supaerodatascience.github.io/machine-learning/\">https://supaerodatascience.github.io/deep-learning/</a>"
   ]
  },
  {
   "cell_type": "markdown",
   "metadata": {
    "slideshow": {
     "slide_type": "-"
    }
   },
   "source": [
    "<div style=\"font-size:22pt; line-height:25pt; font-weight:bold; text-align:center;\">Artificial Neural Networks</div>\n",
    "\n",
    "1. [Biological neural networks](#sec1)\n",
    "2. [Why invent artificial neural networks?](#sec2)\n",
    "2. [Artificial neural networks](#sec3)\n",
    "3. [Propagating values through a network](#sec4)\n",
    "3. [Learning the weights of a neural network (regression case)](#sec5)\n",
    "4. [Neural networks for classification](#sec6)"
   ]
  },
  {
   "cell_type": "markdown",
   "metadata": {},
   "source": [
    "# 1. <a id=\"sec1\"></a> Biological neural networks\n",
    "\n",
    "In 1839, *Cell theory* introduces the idea that living bodies are made of cells.<br>\n",
    "**Mikroskopische Untersuchungen über die Uebereinstimmung in der Struktur und dem Wachsthum der Thiere und Pflanzen.**<br>\n",
    "Schwann, Theodor. Berlin: Sander. (1839).\n",
    "\n",
    "But due to limitations in microsopy in the XIXth century, no one had observed the basic constituents of nerve tissue and the nervous system stood as an exception to cell theory.\n",
    "\n",
    "In the first issue of the Revista Trimestral de Histología Normal y Patológica (May, 1888), Santiago Ramón y Cajal shows a physical separation between individual cells at the axon/dendrite connection (in chickens). This lays the basis of the **neuron doctrine** which lead to his 1906 Nobel prize for Physiology or Medecine.<br>\n",
    "**Neuron theory, the cornerstone of neuroscience, on the centenary of the Nobel Prize award to Santiago Ramón y Cajal**.<br>\n",
    "López-Muñoz, F., Boya, J., & Alamo, C. Brain research bulletin, 70(4-6), 391-405. (2006).\n",
    "\n",
    "Neuron doctrine:\n",
    "- neurons are the basis constituent of the nervous system\n",
    "- dendrites $\\rightarrow$ nucleus $\\rightarrow$ axon $\\rightarrow$ synapses (Law of Dynamic Polarization).\n",
    "- electrical impulses.\n",
    "- chemical neuro-transmitters.\n",
    "\n",
    "<img src=\"img/neuron_bio.png\" width=\"600px\"></img>"
   ]
  },
  {
   "cell_type": "markdown",
   "metadata": {},
   "source": [
    "# 2. <a id=\"sec2\"></a> Why invent \"artificial neural networks\"?\n",
    "\n",
    "Our rationale goes as follows.<br>\n",
    "The human brain processes information efficiently, can we design an artificial computing method that mimics it?<br>\n",
    "But computers process bits, so our artificial neurons should take logical values as inputs.\n",
    "\n",
    "Let's take inspiration from the biological neuron for that and make a simplified model of a neuron. Suppose an input signal in the form of a binary vector $x$. The elements of $x$ can indicate binary statements which are true or false, such as \"it's raining\" or \"I have an umbrella\". We will model the *activation* of a neuron as:\n",
    "$$f(x)=\\left\\{\\begin{array}{ll} 0 & \\textrm{if }w^T x+b\\leq 0 \\\\ 1 & \\textrm{otherwise}\\end{array}\\right.=step\\left(w^Tx + b\\right),$$\n",
    "where $step$ is Heaviside's step function.\n",
    "\n",
    "We will call such a function *Rosenblatt's Perceptron*.\n",
    "Basically, a perceptron is a linear separation rule.\n",
    "Intuitively, it is a machine that weights evidence $x$ and compares it to threshold $b$ in order to make a decision $f(x)$.\n",
    "\n",
    "Although perceptrons were invented in the 50's and are not really representative of modern artificial neural networks, manipulating them conveys some of the important intuitions about artificial networks, so we will go into a \"back to the future\" mode for the next paragraphs before going any further."
   ]
  },
  {
   "cell_type": "markdown",
   "metadata": {},
   "source": [
    "<div class=\"alert alert-warning\">\n",
    "    \n",
    "**Exercice: Back to the future, logical gates.** <br>\n",
    "Take Rosenblatt's perceptron and find input weights that correspond to AND, OR and NAND gates (for two binary inputs).</div>"
   ]
  },
  {
   "cell_type": "markdown",
   "metadata": {},
   "source": [
    "<details class=\"alert alert-danger\">\n",
    "    <summary markdown=\"span\"><b>Ready to see the answer? (click to expand)</b></summary>\n",
    "\n",
    "Rosenblatt's perceptron is the function $step(w_1 x_1 + w_2 x_2 +b)$. \n",
    "\n",
    "With $(w_1, w_2, b) = (2,2,-1)$ we get an OR gate. \n",
    "\n",
    "With $(w_1, w_2, b) = (2,2, -3)$ we get an AND gate. \n",
    "\n",
    "With $(w_1, w_2, b) = (-2,-2,3)$ we get a NAND gate.\n",
    "</details>"
   ]
  },
  {
   "cell_type": "code",
   "execution_count": 2,
   "metadata": {
    "ExecuteTime": {
     "end_time": "2024-11-08T15:10:14.439363Z",
     "start_time": "2024-11-08T15:10:14.434688Z"
    }
   },
   "outputs": [
    {
     "name": "stdout",
     "output_type": "stream",
     "text": [
      "input values:\n",
      " [[0. 0.]\n",
      " [1. 0.]\n",
      " [0. 1.]\n",
      " [1. 1.]]\n",
      "testing OR gate: [0. 1. 1. 1.]\n",
      "testing AND gate: [0. 0. 0. 1.]\n",
      "testing NAND gate: [1. 1. 1. 0.]\n"
     ]
    }
   ],
   "source": [
    "import numpy as np\n",
    "\n",
    "def perceptron(w,b,x):\n",
    "    return np.heaviside(np.dot(x,w)+b,0)\n",
    "\n",
    "x = np.zeros((4,2))\n",
    "x[1,0] = 1.\n",
    "x[2,1] = 1.\n",
    "x[3,0] = 1.\n",
    "x[3,1] = 1.\n",
    "\n",
    "print(\"input values:\\n\", x)\n",
    "\n",
    "def OR(x):\n",
    "    w = np.array([2.,2.])\n",
    "    b = -1.\n",
    "    return perceptron(w,b,x)\n",
    "print(\"testing OR gate:\", OR(x))\n",
    "\n",
    "def AND(x):\n",
    "    w = np.array([2.,2.])\n",
    "    b = -3.\n",
    "    return perceptron(w,b,x)\n",
    "print(\"testing AND gate:\", AND(x))\n",
    "\n",
    "def NAND(x):\n",
    "    w = np.array([-2.,-2.])\n",
    "    b = 3.\n",
    "    return perceptron(w,b,x)\n",
    "print(\"testing NAND gate:\", NAND(x))"
   ]
  },
  {
   "cell_type": "markdown",
   "metadata": {},
   "source": [
    "<div class=\"alert alert-warning\">\n",
    "    \n",
    "**Exercice: Back to the future, the XOR affair.** <br> \n",
    "Does it seem possible to describe a XOR gate with a perceptron? Building a XOR function can be seen as a classification problem; what is the family of classification problems that can be tackled by perpectrons (hint: recall the beginning of the SVM class)?</div>"
   ]
  },
  {
   "cell_type": "markdown",
   "metadata": {},
   "source": [
    "<details class=\"alert alert-danger\">\n",
    "    <summary markdown=\"span\"><b>Ready to see the answer? (click to expand)</b></summary>\n",
    "\n",
    "No, it is actually not possible to model a XOR gate with a perceptron. Since perceptrons implement a threshold on a linear combination of the inputs, they can only separate (shatter, in VC theory) classes that are... linearly separable. XOR is a typical example of non-linearly separable data.\n",
    "</details>"
   ]
  },
  {
   "cell_type": "code",
   "execution_count": 3,
   "metadata": {
    "ExecuteTime": {
     "end_time": "2024-11-08T15:10:14.577494Z",
     "start_time": "2024-11-08T15:10:14.471982Z"
    }
   },
   "outputs": [
    {
     "data": {
      "image/png": "[encoded data removed]",
      "text/plain": [
       "<Figure size 640x480 with 1 Axes>"
      ]
     },
     "metadata": {},
     "output_type": "display_data"
    }
   ],
   "source": [
    "%matplotlib inline\n",
    "import matplotlib.pyplot as plt\n",
    "\n",
    "plt.scatter([0,1],[0,1],c='b')\n",
    "plt.scatter([1,0],[0,1],c='r');"
   ]
  },
  {
   "cell_type": "markdown",
   "metadata": {},
   "source": [
    "<div class=\"alert alert-success\">\n",
    "    \n",
    "**Back to the future, networks of perceptrons.**<br> \n",
    "It is possible to connect perceptrons together to get a XOR function (for example by remarking that $x_1$ XOR $x_2$ = $(x_1$ OR $x_2)$ AND $(x_1$ NAND $x_2)$). It is actually possible to do so for any logical function. Such connected architectures are called Multi-Layer Perceptrons (MLP). This term was later used (abusively) for multi-layered networks of artifical neurons, regardless of their activation functions.</div>"
   ]
  },
  {
   "cell_type": "markdown",
   "metadata": {},
   "source": [
    "<img src=\"./img/xor.png\" width=\"600px\"></img>"
   ]
  },
  {
   "cell_type": "code",
   "execution_count": 4,
   "metadata": {
    "ExecuteTime": {
     "end_time": "2024-11-08T15:10:14.609879Z",
     "start_time": "2024-11-08T15:10:14.606330Z"
    }
   },
   "outputs": [
    {
     "name": "stdout",
     "output_type": "stream",
     "text": [
      "input values:\n",
      " [[0. 0.]\n",
      " [1. 0.]\n",
      " [0. 1.]\n",
      " [1. 1.]]\n",
      "testing XOR gate: [0. 1. 1. 0.]\n"
     ]
    }
   ],
   "source": [
    "def XOR(x):\n",
    "    y1 = OR(x)\n",
    "    y2 = NAND(x)\n",
    "    y = np.array([y1,y2]).T\n",
    "    return AND(y)\n",
    "print(\"input values:\\n\", x)\n",
    "print(\"testing XOR gate:\", XOR(x))"
   ]
  },
  {
   "cell_type": "markdown",
   "metadata": {},
   "source": [
    "As a consequence, any logical circuit can be represented as an MLP. **This seems a great ground for computer-based intelligence!**\n",
    "\n",
    "Now the question is \"how does one find (learn) the structure and weights of a neural network that seems intelligent?\". We will come to that in a minute; let's first play around a bit with artificial neurons."
   ]
  },
  {
   "cell_type": "markdown",
   "metadata": {},
   "source": [
    "<div class=\"alert alert-warning\">\n",
    "    \n",
    "**Exercice: Weight invariance of the Heaviside neuron.**<br>\n",
    "If one multiplies all weights and the bias of a perceptron by a constant $c>0$, does the logical function change?</div>"
   ]
  },
  {
   "cell_type": "markdown",
   "metadata": {},
   "source": [
    "<details class=\"alert alert-danger\">\n",
    "    <summary markdown=\"span\"><b>Ready to see the answer? (click to expand)</b></summary>\n",
    "\n",
    "A perceptron is invariant by scalar multiplication.\n",
    "</details>"
   ]
  },
  {
   "cell_type": "markdown",
   "metadata": {},
   "source": [
    "So far, we have considered a drastic \"0 or 1\" activation for a certain neuron. Suppose now that the input $x$ is not binary anymore: it is made of continuous variables, like a temperature, or a user preference. Then, when processing an input $x$, either the neuron's stimulation $w^Tx$ is above $-b$ or it is below. This makes the output of a neuron very sensitive to noise in the input, or to errors in setting the weights. Conversely, we could wish for a function that is *S-shaped* and that transitions smoothly from 0 to 1.\n",
    "\n",
    "An example of such a function is the sigmoid function:\n",
    "$$\\sigma(x) = \\frac{1}{1 + e^{-x}}$$"
   ]
  },
  {
   "cell_type": "code",
   "execution_count": 5,
   "metadata": {
    "ExecuteTime": {
     "end_time": "2024-11-08T15:10:14.781465Z",
     "start_time": "2024-11-08T15:10:14.671446Z"
    }
   },
   "outputs": [
    {
     "data": {
      "image/png": "[encoded data removed]",
      "text/plain": [
       "<Figure size 640x480 with 1 Axes>"
      ]
     },
     "metadata": {},
     "output_type": "display_data"
    }
   ],
   "source": [
    "def sigmoid(x):\n",
    "    return 1./(1. + np.exp(-x))\n",
    "\n",
    "XX = np.arange(-10.,10.,0.1)\n",
    "plt.plot(XX,sigmoid(XX));"
   ]
  },
  {
   "cell_type": "markdown",
   "metadata": {},
   "source": [
    "<div class=\"alert alert-warning\">\n",
    "    \n",
    "**Exercice: Weight invariance of the sigmoid neuron.**<br>\n",
    "Explain why the weight invariance property does not hold for sigmoid activation functions? Can we regain this invariance property when $c\\rightarrow\\infty$?\n",
    "</div>"
   ]
  },
  {
   "cell_type": "markdown",
   "metadata": {},
   "source": [
    "<details class=\"alert alert-danger\">\n",
    "    <summary markdown=\"span\"><b>Ready to see the answer? (click to expand)</b></summary>\n",
    "\n",
    "This weight invariance property is not true for a sigmoid neuron because, for a given input $x$, multiplying all input weights by $c$ boils down to a shift by a multiplicative factor of $c$ on the horizontal scale of the sigmoid function above, which changes the value taken on the vertical axis. However, when $c\\rightarrow\\infty$, the sigmoid acts as a $step(w^Tx+b)$ function so tends to the same behavior as the perceptron.\n",
    "</details>"
   ]
  },
  {
   "cell_type": "markdown",
   "metadata": {},
   "source": [
    "<div class=\"alert alert-success\">\n",
    "    \n",
    "**Beyond perceptrons.** Modern ANNs model logical functions as well as classification or regression tasks. For this purpose, one needs to find the correct weights so that the network actually produces the desired relation between inputs and outputs. Automatically tuning these weights from the data is the learning algorithm we need to design.\n",
    "</div>\n",
    "\n",
    "Note that the definition above restricts learning algorithms to finding optimized weights for a predefined set of neurons and connections. This is too reductive: finding the appropriate network structure is just as important. Unfortunately, Neural Architecture Search is still a pretty open research topic and, in this class, we will focus on weight learning for predefined network topologies."
   ]
  },
  {
   "cell_type": "markdown",
   "metadata": {},
   "source": [
    "So far, our progression of ideas has been:\n",
    "- The human brain processes information efficiently, can we design an artificial computing method that mimics it?\n",
    "- The biologicial neuron.\n",
    "- Rosenblatt's perceptron: $f(x)=step(\\sum w^T x+b)$ for a binary $x$ input vector.\n",
    "- Networks of artificial neurons = Artifical Neural Networks (ANN).\n",
    "- Generalization on activation functions and the particular case of the (logistic) sigmoid function.\n",
    "\n",
    "If you get all the ideas behind each of these steps, we can move on to the next section."
   ]
  },
  {
   "cell_type": "markdown",
   "metadata": {},
   "source": [
    "# 3. <a id=\"sec3\"></a>Artificial neural networks\n",
    "\n",
    "**The idea:**\n",
    "1. Each neuron processes a bit of information and passes it to its children.\n",
    "2. Overall the network processes raw information into general concepts.\n",
    "\n",
    "**Question:** can we mimic this system of connections in a learning system that adapts its parameters to the data it is exposed to?\n",
    "\n",
    "<img src=\"img/neuron_bio.png\" width=\"600px\"></img>\n",
    "\n",
    "**A formal neuron:**\n",
    "$$z = \\sigma(w^T x + b)$$\n",
    "- $x$ is the input (the $n$-dimensional signal received through dendrites)\n",
    "- $w$ is an $n$-dimensional vector of weights that give more or less importance to the elements of $x$\n",
    "- $b$ is a scalar bias\n",
    "- $\\sigma$ is the neuron's activation function\n",
    "- $z$ is the output (the signal along the \"axon\")\n",
    "\n",
    "Note that the formal neuron is a *function*, very different from the impulses carried by axons in biological neurons.\n",
    "\n",
    "<img src=\"img/artificial-neuron.png\" width=\"250px\">\n",
    "\n",
    "**Computation graph**\n",
    "\n",
    "A neural network is obtained by connecting some neuron's outputs to other neurons inputs. The goal of such a network is typically to learn how to imitate a certain function $f(x)$ for which we are given training data pairs $(x,y)$ with $y = f(x) + \\textrm{noise}$. Such a network has thus three types of neurons:\n",
    "- Input neurons. Those correspond to the different input variables $x_j$ describing our training examples.\n",
    "- Output neurons. Those correspond to the targets $y$ in our examples.\n",
    "- Hidden neurons. Any neuron that's not an input or an output neuron.\n",
    "\n",
    "Therefore, a neural network is a computation graph, with inputs $x$ and outputs $y$, where nodes are neurons and edges connect the output signal of a node to one of the inputs of another.\n",
    "\n",
    "**A little vocabulary:**\n",
    "- A neural network is a computation graph.\n",
    "- The input layer is composed of all input neurons.\n",
    "- A layer is a (maximum) set of unconnected neurons, at the same depth from the input layer.\n",
    "- The output layer is composed of all output neurons.\n",
    "- All layers between the input and output layers are called hidden layers.\n",
    "- A neural network organized in layers is called a feedforward NN.\n",
    "- Some neural networks are not feedforward NNs and present loops. They are called Recurrent NN.\n",
    "- A multilayer NN is often called a multilayer perceptron (for historical reasons)\n",
    "- The scalar output of a neuron is also called its activation (depending on sources, sometimes it is rather the scalar input that is called activation).\n",
    "- The vector of outputs for all neurons in a given layer is called the layer's activation.\n",
    "\n",
    "<img src=\"img/nn.png\" width=\"600px\"></img>\n",
    "\n",
    "**A bit of history:**<br>\n",
    "1943: McCulloch (neurophysiologist) and Pitts (logician) suggest a first formal model for neurons.\n",
    "> A logical calculus of the ideas immanent in nervous activity. McCulloch, W. and Pitts, W. Bulletin of Mathematical Biophysics, 5:115–133. (1943). [paper](https://link.springer.com/article/10.1007%2FBF02478259), [wikipedia](https://en.wikipedia.org/wiki/Artificial_neuron).\n",
    "\n",
    "1949: Hebb suggests dendrites are strengthened whenever they are used.\n",
    "> The Organization of Behavior. Hebb, D.O. New York: Wiley & Sons. (1949). [book](https://pure.mpg.de/rest/items/item_2346268_3/component/file_2346267/content), [wikipedia](https://en.wikipedia.org/wiki/Hebbian_theory).\n",
    "\n",
    "1951: [Minsky](https://en.wikipedia.org/wiki/Marvin_Minsky) designs a network of artificial neurons.\n",
    "> [wikipedia](https://en.wikipedia.org/wiki/Stochastic_neural_analog_reinforcement_calculator)\n",
    "\n",
    "1958: Roseblatt designs the Perceptron, with step activation functions.\n",
    "> The perceptron: A probabilistic model for information storage and organization in the brain. Rosenblatt, F. Psychological Review, 65(6), 386-408. (1958). [wikipedia](https://en.wikipedia.org/wiki/Perceptron), [paper](http://citeseerx.ist.psu.edu/viewdoc/summary?doi=10.1.1.588.3775)\n",
    "\n",
    "1962: Widrow and Hoff suggest the delta-rule for adapting a network weights to obtain the desired output.\n",
    "> [wikipedia](https://en.wikipedia.org/wiki/Least_mean_squares_filter)\n",
    "\n",
    "1970s and 80s: The \"quiet years\", first AI winter. Attention turns to other methods while computing resources slowly increase. The Lighthill report halts AI research in the UK.\n",
    "> Artificial Intelligence: A General Survey. James Lighthill. Artificial Intelligence: a paper symposium, UK Science Research Council. (1973). [report](http://www.chilton-computing.org.uk/inf/literature/reports/lighthill_report/p001.htm)\n",
    "\n",
    "1986: Rediscovery of the backpropagation algorithm (for multilayered perceptrons).\n",
    "> Learning representations by back-propagating errors. Rumelhart, David E.; Hinton, Geoffrey E.; Williams, Ronald J. Nature. 323 (6088): 533–536. 1986. [paper](https://www.nature.com/articles/323533a0).\n",
    "\n",
    "1990s: not enough computing power, not enough data, not enough recognition (while other methods like SVMs achieve good results). Second AI winter.\n",
    "\n",
    "2000s: computing power + available data allow the training of deep multi-layered architectures (deep learning). Massive successes.\n",
    "\n",
    "<div class=\"alert alert alert-success\"> Feedforward neural networks are computational graphs where edges convey scalar values between neurons (nodes).<br>\n",
    "A neuron's output results from the application of the activation function $\\sigma$ to a linear combination of its inputs $z = \\sigma(w^T x + b)$.<br>\n",
    "The network parameters are all the neuron's input weights and biases. <br>\n",
    "A neural network is a function that transforms its inputs into outputs by value propagation in the network.<br>\n",
    "Learning a neural network consists in finding the $w$ and $b$ such that the network's output matches the function $f(x)$ that generated the data pairs $(x,y = f(x)\\textrm{+noise})$.\n",
    "</div>\n",
    "\n",
    "**Universal approximation theorem:**<br>\n",
    "If $\\sigma$ is \"S-shaped\", then with enough neurons, a single layer, feed-forward NN can approximate any continuous function to an arbitrary precision.<br>\n",
    "In other words, NN are universal approximators.<br>\n",
    "<a href=\"UniversalApproximationTheorem.pdf\">Let's take a formal look at this theorem.</a>\n",
    "\n",
    "**Activation functions**\n",
    "- step\n",
    "$$\\sigma(x) = 0 \\textrm{ if }x\\leq0\\textrm{, }1\\textrm{ otherwise}$$\n",
    "- linear\n",
    "$$\\sigma(x) = x$$\n",
    "- sigmoid or logistic (which we will consider by default for now)\n",
    "$$\\sigma(x) = \\frac{1}{1 + e^{-x}}$$\n",
    "- hyperbolic tangent\n",
    "$$\\sigma(x) = \\frac{e^{x} + e^{-x}}{e^{x} - e^{-x}}$$\n",
    "- radial basis function (useful in some specific cases like Kohonen maps)\n",
    "$$\\sigma(x) = e^{-x^2}$$"
   ]
  },
  {
   "cell_type": "markdown",
   "metadata": {},
   "source": [
    "# <a id=\"sec4\"></a>4. Propagating values through a network\n",
    "\n",
    "Let's define a neural network that has the following structure:\n",
    "- 2 input neurons\n",
    "- first hidden layer with 4 sigmoid neurons\n",
    "- second hidden layer with 3 sigmoid neurons\n",
    "- one ouput layer with an identity neuron\n",
    "\n",
    "<img src=\"img/nn2.png\" width=\"600px\"></img>\n",
    "\n",
    "Let's initialize its weights randomly (following a $\\mathcal{N}(0,1)$ distribution)."
   ]
  },
  {
   "cell_type": "code",
   "execution_count": 6,
   "metadata": {
    "ExecuteTime": {
     "end_time": "2024-11-08T15:10:14.813723Z",
     "start_time": "2024-11-08T15:10:14.810626Z"
    }
   },
   "outputs": [],
   "source": [
    "sizes = [2,4,3,1]\n",
    "num_layers = len(sizes)\n",
    "biases = [np.random.randn(1,y) for y in sizes[1:]]\n",
    "weights = [np.random.randn(out,inp) for inp,out in zip(sizes[:-1],sizes[1:])]\n",
    "def sigmoid(z):\n",
    "    \"\"\"The sigmoid function.\"\"\"\n",
    "    return 1.0/(1.0+np.exp(-z))"
   ]
  },
  {
   "cell_type": "markdown",
   "metadata": {},
   "source": [
    "<div class=\"alert alert-warning\">\n",
    "    \n",
    "**Exercice:**<br>\n",
    "Write a function that computes the forward propagation of the input $x=[1,2]$ through the network and returns the outputs and all intermediate activations.\n",
    "</div>"
   ]
  },
  {
   "cell_type": "markdown",
   "metadata": {},
   "source": []
  },
  {
   "cell_type": "code",
   "execution_count": 35,
   "metadata": {},
   "outputs": [
    {
     "name": "stdout",
     "output_type": "stream",
     "text": [
      "0 [[1 2]]\n",
      "(array([[0.85812489, 0.02359455, 0.55463578, 0.10861817]]), array([[0.12174656, 0.02303785, 0.24701493, 0.09682026]]))\n",
      "1 (array([[0.85812489, 0.02359455, 0.55463578, 0.10861817]]), array([[0.12174656, 0.02303785, 0.24701493, 0.09682026]]))\n",
      "(array([[[0.48758529, 0.28364209, 0.35948572]],\n",
      "\n",
      "       [[0.62892828, 0.395963  , 0.45792863]]]), array([[[0.24984588, 0.20318926, 0.23025574]],\n",
      "\n",
      "       [[0.2333775 , 0.2391763 , 0.24823   ]]]))\n",
      "2 (array([[[0.48758529, 0.28364209, 0.35948572]],\n",
      "\n",
      "       [[0.62892828, 0.395963  , 0.45792863]]]), array([[[0.24984588, 0.20318926, 0.23025574]],\n",
      "\n",
      "       [[0.2333775 , 0.2391763 , 0.24823   ]]]))\n",
      "[[[[1.46999608]]\n",
      "\n",
      "  [[1.54721612]]]\n",
      "\n",
      "\n",
      " [[[1.12804667]]\n",
      "\n",
      "  [[1.05079759]]]]\n",
      "[[[[1.46999608]]\n",
      "\n",
      "  [[1.54721612]]]\n",
      "\n",
      "\n",
      " [[[1.12804667]]\n",
      "\n",
      "  [[1.05079759]]]]\n"
     ]
    }
   ],
   "source": [
    "# %load solutions/code1.py\n",
    "### WRITE YOUR CODE HERE\n",
    "# If you get stuck, uncomment the line above to load a correction in this cell (then you can execute this code).\n",
    "\n",
    "input_value = np.array([[1,2]])\n",
    "x = input_value.copy()\n",
    "for layer in range(num_layers-1):\n",
    "    print(layer, x)\n",
    "    x = np.dot(x, weights[layer].T) + biases[layer]\n",
    "    if layer != num_layers-2:\n",
    "        x = sigmoid(x)\n",
    "    print(x)\n",
    "print(x)\n",
    "    \n",
    "    \n"
   ]
  },
  {
   "cell_type": "code",
   "execution_count": 8,
   "metadata": {
    "ExecuteTime": {
     "end_time": "2024-11-08T15:10:14.867919Z",
     "start_time": "2024-11-08T15:10:14.861701Z"
    }
   },
   "outputs": [
    {
     "name": "stdout",
     "output_type": "stream",
     "text": [
      "(1, 2)\n",
      "# Forward propagation to layer 1\n",
      "Neuron inputs: [[ 0.45279452 -1.8658471   2.23391027  3.09876738]]\n",
      "Layer outputs: [[0.61130345 0.13402298 0.9032536  0.95684187]]\n",
      "# Forward propagation to layer 2\n",
      "Neuron inputs: [[ 0.24952757  1.25873641 -0.77274051]]\n",
      "Layer outputs: [[0.56206022 0.77880851 0.31588658]]\n",
      "# Forward propagation to layer 3\n",
      "Neuron inputs: [[-1.37764969]]\n",
      "Layer outputs: [[-1.37764969]]\n"
     ]
    }
   ],
   "source": [
    "# %load solutions/code1.py\n",
    "### WRITE YOUR CODE HERE\n",
    "# If you get stuck, uncomment the line above to load a correction in this cell (then you can execute this code).\n",
    "\n",
    "input_value = np.array([[1,2]])\n",
    "print(input_value.shape)\n",
    "\n",
    "def forward_pass(x, verbose=False):\n",
    "    # z: transformed output\n",
    "    # y: raw output\n",
    "\n",
    "    y = [np.zeros((x.shape[0], size)) for size in sizes]\n",
    "    z = [np.zeros((x.shape[0], size)) for size in sizes]\n",
    "    z[0] = x\n",
    "    for layer in range(1, num_layers):\n",
    "        y[layer] = np.dot(z[layer - 1], weights[layer - 1].T) + biases[layer - 1]\n",
    "        if layer == num_layers - 1:\n",
    "            z[layer] = y[layer]\n",
    "        else:\n",
    "            z[layer] = sigmoid(y[layer])\n",
    "\n",
    "        if verbose:\n",
    "            print(\"# Forward propagation to layer\", layer)\n",
    "            print(\"Neuron inputs:\", y[layer])\n",
    "            print(\"Layer outputs:\", z[layer])    \n",
    "\n",
    "    return y, z        \n",
    "\n",
    "y,z = forward_pass(input_value, verbose=True)\n"
   ]
  },
  {
   "cell_type": "markdown",
   "metadata": {},
   "source": [
    "# 5. <a id=\"sec5\"></a> Learning the weights of a neural network (regression case)\n",
    "\n",
    "Suppose that the value associated to $x=[1,2]$ in the previous example was $12.3$. That is not what was predicted and we could wish to adapt the weights of the network so that the next time we propagate $x=[1,2]$ through the network, the prediction is closer to $12.3$.\n",
    "\n",
    "Let's do a bit of math to formalize the search for the best neural network for our data.\n",
    "\n",
    "Let's first suppose that our data points $(x,y)$ are drawn from a probability distribution $p(x,y)$."
   ]
  },
  {
   "cell_type": "markdown",
   "metadata": {},
   "source": [
    "## 5.1 Risk minimization and loss functions\n",
    "\n",
    "After all, a neural network with a fixed graph structure is a parametric function $f_\\theta$ where $\\theta$ is the vector of all parameters (all weights and biases). \n",
    "Learning a neural network that correctly predicts $y$ corresponds to finding the parameters $\\theta$ that minimize the following function.\n",
    "$$L(\\theta) = \\displaystyle \\mathbb{E}_{(x,y)\\sim p(x,y)} \\left[ \\left(f_\\theta(x) - y\\right)^2 \\right] = \\int_{x,y} \\left[ \\left(f_\\theta(x) - y\\right)^2 \\right] \\mathrm{d}p(x,y) $$\n",
    "\n",
    "The smaller $L(\\theta)$, the happier we are.\n",
    "\n",
    "Note that this defines a least squares minimization problem. Let's take a minute to generalize slightly before we turn back to this least squares minimization problem.\n",
    "\n",
    "Let $\\ell(\\hat{y},y)$ denote how unhappy we are if one predicts $\\hat{y}$ when $y$ was expected. $\\ell$ is referred to as a **cost** or **loss function**: it measures the cost of the joint event \"$\\hat{y},y$\". An example, when $\\hat{y}$ and $y \\in \\mathbb{R}$ is $\\ell(\\hat{y},y)=(\\hat{y}-y)^2$. But recall the class on support vector regression: there we used the $\\epsilon$-insensitive loss $\\ell(\\hat{y},y) = \\max\\{0,1-|\\hat{y}-y|\\}$. We also introduced a few other loss functions there (Laplacian, squared, Huber, etc.). Let's expand a bit and suppose our prediction is not a scalar value anymore, but rather the probability of belonging to one of $C$ classes. Then $y$ and $\\hat{y}$ are probability distributions over the $C$ classes, and their cross-entropy measures the discrepancy between them, defining the cross-entropy loss $\\ell(\\hat{y},y) = -\\sum_{i=1}^C y_i \\log \\hat{y}_i$. The point here is: a loss function measures the penalty we pay for predicting $\\hat{y}$ instead of $y$. \n",
    "\n",
    "Then, for a given prediction function $f$, one can define the expected value of the loss for the distribution $p(x,y)$: we shall call it the **expected loss** or the **risk** $L(f) = \\mathbb{E}_{(x,y)\\sim p(x,y)} \\left[ \\ell(f(x),y) \\right]$. For a parametrized function $f_\\theta$, we directly define $L(\\theta)$. Overall, a good predictor is one which **minimizes the risk**.\n",
    "\n",
    "**Risk minimization** hence consists in finding $f^* \\in \\arg\\min_{f \\in \\mathcal{F}} L(f)$, where $\\mathcal{F}$ is a certain family of functions. In the present case, since the structure of the network is fixed, this family of functions is the one spanned by varying the network parameters $\\theta$. But computing the risk is intractable in practice because $p(x,y)$ is unknown. However, in supervised learning, we rely on training sets $\\{(x_i,y_i)\\}_{i\\in [1,N]}$ whose elements have all been sampled independently of each other and according to $p(x,y)$. The training set defines the empirical measure $\\bar{p}(x,y)$ and we can approximate the risk by the **empirical risk**:\n",
    "$$\\bar{L}(f) = \\mathbb{E}_{(x,y)\\sim \\bar{p}(x,y)} \\left[ \\ell(f(x),y) \\right] = \\frac{1}{N} \\sum_{i=1}^N \\ell(f(x_i),y_i).$$\n",
    "\n",
    "The empirical risk is the Monte Carlo estimate of the risk, given the training set. Overall, this generalization is the core principle of **empirical risk minimization**, which itself is the foundation of neural network optimization.\n",
    "\n",
    "> **Principles of risk minimization for learning theory.** Vapnik, V. Advances in neural information processing systems. (1991) [paper](https://proceedings.neurips.cc/paper/1991/hash/ff4d5fbbafdf976cfdc032e3bde78de5-Abstract.html)\n",
    "\n",
    "Note that a common vocabulary shortcut in modern deep learning is to call $\\bar{L}$ the loss (while the loss really is $\\ell$). Generally this does not lead to any notable confusion in practice.\n",
    "\n",
    "But, for now, let's get back to the squared loss function, which gave rise to the least squares minimization problem above.\n",
    "\n",
    "<div class=\"alert alert-warning\">\n",
    "    \n",
    "**Exercice:**<br>\n",
    "Using the training data provided below, estimate the empirical risk for the current parameters $\\theta$ of the network defined in the previous section.\n",
    "</div>"
   ]
  },
  {
   "cell_type": "code",
   "execution_count": 9,
   "metadata": {
    "ExecuteTime": {
     "end_time": "2024-11-08T15:10:14.923860Z",
     "start_time": "2024-11-08T15:10:14.918007Z"
    }
   },
   "outputs": [],
   "source": [
    "input_X = np.array([[1.,2.],[1.1,1.7],[0.8,1.9]])\n",
    "def func(x):\n",
    "    return np.sqrt(x[:,0]+x[:,1])\n",
    "output_y = func(input_X)"
   ]
  },
  {
   "cell_type": "code",
   "execution_count": 10,
   "metadata": {
    "ExecuteTime": {
     "end_time": "2024-11-08T15:10:14.982083Z",
     "start_time": "2024-11-08T15:10:14.977469Z"
    }
   },
   "outputs": [
    {
     "name": "stdout",
     "output_type": "stream",
     "text": [
      "# Forward propagation to layer 1\n",
      "Neuron inputs: [[ 0.45279452 -1.8658471   2.23391027  3.09876738]\n",
      " [ 0.22447863 -1.82363559  2.37693497  2.37959633]\n",
      " [ 0.51200238 -1.65679493  2.18035952  2.97959536]]\n",
      "Layer outputs: [[0.61130345 0.13402298 0.9032536  0.95684187]\n",
      " [0.55588518 0.1389982  0.91505149 0.91525813]\n",
      " [0.62527576 0.16019271 0.89847187 0.95164375]]\n",
      "# Forward propagation to layer 2\n",
      "Neuron inputs: [[ 0.24952757  1.25873641 -0.77274051]\n",
      " [ 0.25161244  1.22358149 -0.68914483]\n",
      " [ 0.24631019  1.28015284 -0.79570411]]\n",
      "Layer outputs: [[0.56206022 0.77880851 0.31588658]\n",
      " [0.56257334 0.77269321 0.33422334]\n",
      " [0.5612681  0.78247579 0.3109452 ]]\n",
      "# Forward propagation to layer 3\n",
      "Neuron inputs: [[-1.37764969]\n",
      " [-1.37937251]\n",
      " [-1.37490995]]\n",
      "Layer outputs: [[-1.37764969]\n",
      " [-1.37937251]\n",
      " [-1.37490995]]\n",
      "Empirical risk estimate: 9.365925669845222\n"
     ]
    }
   ],
   "source": [
    "# %load solutions/code2.py\n",
    "### WRITE YOUR CODE HERE\n",
    "# If you get stuck, uncomment the line above to load a correction in this cell (then you can execute this code).\n",
    "\n",
    "ypred,zpred = forward_pass(input_X, verbose=True)\n",
    "pred = zpred[-1]\n",
    "err = np.mean((pred-output_y)**2)\n",
    "print(\"Empirical risk estimate:\",err)"
   ]
  },
  {
   "cell_type": "markdown",
   "metadata": {},
   "source": [
    "## 5.2 Stochastic gradient descent\n",
    "\n",
    "Let's say we have an initial guess $\\theta_0$ for the parameters of $f_\\theta$. How can we change this guess so that we minimize $L(\\theta)$? Plain gradient descent tells us we should move in the opposite direction of the gradient of $L(\\theta)$ with respect to $\\theta$. So let's write this gradient:\n",
    "\n",
    "\\begin{align*}\n",
    "\\displaystyle \\nabla_\\theta L(\\theta) &= \\nabla_\\theta \\left[ \\mathbb{E}_{(x,y)\\sim p(x,y)} \\left[ \\left(f_\\theta(x) - y\\right)^2 \\right] \\right]\\\\\n",
    "&= \\mathbb{E}_{(x,y)\\sim p(x,y)} \\left[ \\nabla_\\theta \\left[ \\left(f_\\theta(x) - y\\right)^2 \\right] \\right]\\\\\n",
    "&= \\mathbb{E}_{(x,y)\\sim p(x,y)} \\left[ 2 \\left(f_\\theta(x) - y\\right) \\nabla_\\theta f_\\theta(x) \\right]\n",
    "\\end{align*}\n",
    "\n",
    "So, the gradient of $L(\\theta)$ is the expectation of $2 \\left(f_\\theta(x) - y\\right) \\nabla_\\theta f_\\theta(x)$. In other words:\n",
    "\n",
    "$$\\nabla_\\theta L(\\theta) = \\int_{x,y} 2 \\left(f_\\theta(x) - y\\right) \\nabla_\\theta f_\\theta(x) \\mathrm{d}p(x,y)$$\n",
    "\n",
    "The problem with this expression is that it requires the knowledge of $p(x,y)$ for all possible $(x,y)$ pairs (just like for computing the risk). That would mean having an infinite amount of data. We can, however, try to substitute the risk by the empirical risk, and approximate this gradient with a finite data set $\\left\\{\\left(x_i,y_i\\right)\\right\\}_{i\\in [1,N]}$ drawn i.i.d. according to $p$:\n",
    "$$\\nabla_\\theta L(\\theta) \\approx \\nabla_\\theta \\bar{L}(\\theta) = \\frac{1}{N}\\sum_{i=1}^N 2 \\left(f_\\theta(x_i) - y_i\\right) \\nabla_\\theta f_\\theta(x_i)$$\n",
    "\n",
    "This is actually a *noisy estimation of the gradient* (that converges to the true gradient in the limit of infinite sampling).\n",
    "To be precise, it is a Monte Carlo estimator of the expectation in $\\nabla_\\theta L(\\theta)$. \n",
    "The theory of *stochastic gradient descent* tells us that if $g(\\theta)$ is a noisy estimator of $\\nabla_\\theta L(\\theta)$, then the following sequence $\\theta_k$ converges to a local minimum of $L(\\theta)$:\n",
    "$$\\theta_{k+1} = \\theta_k - \\alpha_k g(\\theta_k)$$\n",
    "under the condition that $\\sum \\alpha_k = \\infty$ and $\\sum \\alpha_k^2 < \\infty$ (called the Robbins-Monro conditions).\n",
    "\n",
    "> **A Stochastic Approximation Method**.\n",
    "H. Robbins and S. Monro (1951). *The Annals of Mathematical Statistics*. **22**(3): 400. [paper](https://doi.org/10.1214/aoms/1177729586), [wikipedia](https://en.wikipedia.org/wiki/Stochastic_approximation).\n",
    "\n",
    "The first condition $\\sum \\alpha_k = \\infty$ insures that whatever the starting parameters $\\theta_0$, no matter how far from $\\theta_0$ the minimum is, this procedure can reach it.\n",
    "\n",
    "The second condition $\\sum \\alpha_k^2 < \\infty$ forces the step sizes to be a decreasing sequence and avoids oscillations around the minimum.\n",
    "\n",
    "Here we have\n",
    "$$g(\\theta) = \\frac{1}{N} \\sum_{i=1}^N 2 \\left(f_\\theta(x_i) - y_i\\right) \\nabla_\\theta f_\\theta(x_i).$$\n",
    "\n",
    "To simplify the notation we shall write $\\alpha$ instead of $\\alpha_k$.\n",
    "\n",
    "One complete pass (to compute the $\\sum_{i=1}^N$) over the training set will be called a *training epoch*."
   ]
  },
  {
   "cell_type": "markdown",
   "metadata": {},
   "source": [
    "## 5.3 Minibatches\n",
    "\n",
    "Notation disambiguation: $\\theta_k$ refers to the $k$th parameter vector in the sequence above, $\\theta_j$ refers to the $j$th component of vector $\\theta$.\n",
    "\n",
    "Now we have a procedure that enables finding some optimal weights for our network. Provided that, for all parameter $\\theta_j$ in the parameter vector $\\theta$, we can compute $\\frac{\\partial f_\\theta}{\\partial \\theta_j}(x)$, then we can calculate:\n",
    "$$g_{j}(\\theta) = \\frac{1}{N} \\sum_{i=1}^N 2 \\left(f_{\\theta}(x_i) - y_i\\right) \\frac{\\partial f_{\\theta}}{\\partial\\theta_j}(x_i)$$\n",
    "And thus we can update $\\theta_j$ with:\n",
    "$$\\theta_j \\leftarrow \\theta_j - \\alpha g_{j}(\\theta)$$\n",
    "\n",
    "So the computation of all the components in $g(\\theta)$ and the update of each element in $\\theta$ can be done in *parallel*.\n",
    "\n",
    "It appears, however, that for large datasets, summing over the $N$ elements is computationally expensive. \n",
    "<div class=\"alert alert-warning\">\n",
    "    \n",
    "**Exercice:**<br>\n",
    "Recall that we actually sum together random variables that are i.i.d., to form a Monte Carlo estimator. Do you remember the [central limit theorem](https://en.wikipedia.org/wiki/Central_limit_theorem)? What is the relationship between the number of samples collected and the standard deviation of the Monte Carlo estimator?\n",
    "</div>\n",
    "\n",
    "<details class=\"alert alert-danger\">\n",
    "    <summary markdown=\"span\"><b>Ready to see the answer? (click to expand)</b></summary>\n",
    "\n",
    "The standard deviation of the empirical average over $n$ i.i.d. samples of a random variable $X$ is $\\frac{\\sigma}{\\sqrt{n}}$, where $\\sigma$ is the standard deviation of the law of $X$.\n",
    "</details>\n",
    "\n",
    "So we could define a cheaper (but noiser) version of the gradient estimator by summing only over a random subset of $n$ training points ($n \\ll N$): \n",
    "$$\\nabla_\\theta L(\\theta) \\approx g(\\theta) = \\frac{1}{n} \\sum_{i=1}^n 2 \\left(f_\\theta(x_i) - y_i\\right) \\nabla_\\theta f_\\theta(x_i) $$\n",
    "\n",
    "Such a subset is called a *minibatch*. When $n=1$, the gradient estimate is based on a single example and is thus very (very!) noisy and convergence can be very slow and unstable. When $n\\rightarrow N$ the noise level decreases at the expense of a heavier computational cost. In practice, the noise level decreases quickly enough that we can take $n\\in [50;1000]$ in most cases.\n",
    "\n",
    "Generally, one takes fixed-size minibatches and drops the $\\frac{1}{n}$ term is the gradient estimate: it blends with the step size $\\alpha$, which we will also call the *learning rate*."
   ]
  },
  {
   "cell_type": "markdown",
   "metadata": {},
   "source": [
    "## 5.4 Recursive gradient computation\n",
    "\n",
    "For the update above to be feasible, we need to have a differentiable $f_\\theta$. Let's take a close look at the gradient $\\nabla_\\theta f_\\theta(x)$ and write it as:\n",
    "\\begin{align*}\n",
    "\\nabla_\\theta f_\\theta(x) &= \\left[ \\begin{array}{c} \\vdots \\\\ \\frac{\\partial f_\\theta}{\\partial\\theta_j}(x) \\\\ \\vdots \\end{array}\\right]\n",
    "\\end{align*}\n",
    "\n",
    "In the case of a neural network, the $\\theta_j$ are weights and biases. Let's consider neuron number $j$ and let's write $w_{ij}$ its input weights (with the convention that $i=0$ corresponds to the bias). We will write:\n",
    "- $x_{ij}$ the $i$th input to this neuron\n",
    "- $y_j = \\sum_i w_{ij} x_{ij}$ the scalar input to the activation function\n",
    "- $z_j = \\sigma (y_j)$ the neuron's output\n",
    "<img src=\"img/neuronj-0.png\" width=\"300px\"></img>\n",
    "\n",
    "These three quantities have been computed during the *forward pass*, when $x$ was propagated through the network to obtain $f_\\theta(x)$."
   ]
  },
  {
   "cell_type": "markdown",
   "metadata": {},
   "source": [
    "<div class=\"alert alert-warning\">\n",
    "    \n",
    "**Exercice:**<br>\n",
    "Use the chain rule to write $\\frac{\\partial f_\\theta}{\\partial w_{ij}}(x)$ as an expression of the partial derivatives of $f_\\theta$ with respect to $z_j$ and $y_j$. Simplify this expression.\n",
    "</div>\n",
    "\n",
    "Using the chain rule, we can write:\n",
    "$$\\frac{\\partial f_\\theta}{\\partial w_{ij}}(x) = \\frac{\\partial f_\\theta}{\\partial z_j}(x) \\frac{\\partial z_j}{\\partial y_j}(x) \\frac{\\partial y_j}{\\partial w_{ij}}(x).$$\n",
    "\n",
    "Let's decompose this expression. First we take the last (third) term. We have $y_j = \\sum_i w_{ij} x_{ij}$, so:\n",
    "$$\\frac{\\partial y_j}{\\partial w_{ij}}(x) = x_{ij}.$$\n",
    "\n",
    "Then we take the second term. We have $z_j = \\sigma(y_j)$, so:\n",
    "$$\\frac{\\partial z_j}{\\partial y_j}(x) = \\sigma'(y_j).$$\n",
    "\n",
    "And so:\n",
    "$$\\boxed{\\frac{\\partial f_\\theta}{\\partial w_{ij}}(x) = \\frac{\\partial f_\\theta}{\\partial z_j}(x) \\sigma'(y_j) x_{ij}}.$$"
   ]
  },
  {
   "cell_type": "markdown",
   "metadata": {},
   "source": [
    "Only the first term remains to be calculated in the expression above.\n",
    "<div class=\"alert alert-warning\">\n",
    "    \n",
    "**Exercice:**<br>\n",
    "Suppose that $j$ is an output neuron. What is $\\frac{\\partial f_\\theta}{\\partial z_j}(x)$? And consequently, what is the value of $\\frac{\\partial f_\\theta}{\\partial w_{ij}}(x)$?\n",
    "</div>\n",
    "\n",
    "Let's assume $j$ is an output neuron. In this case, $z_j$ is the $j$th component of $f_\\theta(x)$, and we have:\n",
    "$$\\frac{\\partial f_\\theta}{\\partial z_j}(x) = 1.$$\n",
    "\n",
    "Consequently, for the neurons of the output layer:\n",
    "$$\\boxed{\\frac{\\partial f_\\theta}{\\partial w_{ij}}(x) = \\sigma'(y_j) x_{ij}}.$$\n",
    "\n",
    "And hence, the update of the input weights $w_{ij}$ for output neuron $j$ (in the output layer) is:\n",
    "$$w_{ij} \\leftarrow w_{ij} - \\alpha \\left(f_\\theta(x) - y\\right)\\sigma'(y_j) x_{ij}$$\n",
    "Note that, in the expression above, $y$ is the value associated to $x$ (not to be confused with pre-neuron value $y_j$) and we have dropped the sum over elements of the mini-batch for clarity."
   ]
  },
  {
   "cell_type": "markdown",
   "metadata": {},
   "source": [
    "Now let's look at the neurons of the layer just preceding the output layer. Let's call $L_j$ the set of indices of the neurons that directly feed on neuron $j$'s output. $z_j$ corresponds to the $x_{jl}$ variable for these neurons and $y_l$ is the scalar input to neuron $l$. \n",
    "\n",
    "<img src=\"attachment:neuronj-1.png\" width=\"300px\"></img>\n",
    "\n",
    "<div class=\"alert alert-warning\">\n",
    "    \n",
    "**Exercice:**<br>\n",
    "Remark that $x_{jl}=z_j$. Take the total derivative of $f_\\theta$ and derive a recurrence relation between $\\frac{\\partial f_\\theta}{\\partial z_j}(x)$ and the $\\frac{\\partial f_\\theta}{\\partial z_l}(x)$ for $l\\in L_j$.\n",
    "</div>\n",
    "\n",
    "We can take the total derivative:\n",
    "$$\\frac{\\partial f_\\theta}{\\partial z_j}(x) = \\sum_{l \\in L_j} \\frac{\\partial f_\\theta}{\\partial y_l}(x) \\frac{\\partial y_l}{\\partial z_j}(x).$$\n",
    "\n",
    "And so, we can write:\n",
    "$$\\frac{\\partial f_\\theta}{\\partial z_j}(x) = \\sum_{l \\in L_j} \\frac{\\partial f_\\theta}{\\partial z_l}(x) \\frac{\\partial z_l}{\\partial y_l}(x) \\frac{\\partial y_l}{\\partial z_j}(x).$$\n",
    "\n",
    "As previously:\n",
    "$$\\frac{\\partial z_l}{\\partial y_l}(x) = \\sigma'(y_l)\\textrm{ and }\\frac{\\partial y_l}{\\partial z_j}(x) = w_{jl}$$\n",
    "\n",
    "So this total derivative turns into:\n",
    "$$\\boxed{\\frac{\\partial f_\\theta}{\\partial z_j}(x) = \\sum_{l \\in L_j} \\frac{\\partial f_\\theta}{\\partial z_l}(x) \\sigma'(y_l) w_{jl}}.$$\n",
    "\n",
    "This provides a recurrence relation between $\\displaystyle \\frac{\\partial f_\\theta}{\\partial z_j}(x)$ and $\\displaystyle \\frac{\\partial f_\\theta}{\\partial z_l}(x)$ for $l \\in L_j$.\n",
    "\n",
    "Let's write $\\boxed{\\displaystyle  \\delta_j = \\frac{\\partial f_\\theta}{\\partial z_j}(x) \\sigma'(y_j)}$. Recall that our goal is to evaluate:\n",
    "$$\\frac{\\partial f_\\theta}{\\partial w_{ij}}(x) = \\frac{\\partial f_\\theta}{\\partial z_j}(x) \\frac{\\partial z_j}{\\partial y_j}(x) \\frac{\\partial y_j}{\\partial w_{ij}}(x) = \\frac{\\partial f_\\theta}{\\partial z_j}(x) \\sigma'(y_j) x_{ij} = \\delta_j x_{ij},$$\n",
    "$$\\boxed{\\frac{\\partial f_\\theta}{\\partial w_{ij}}(x) = \\delta_j x_{ij}}.$$\n",
    "\n",
    "And we have the following recurrence equation between neuron $j$ and its siblings in $L_j$:\n",
    "$$\\delta_j = \\sigma'(y_j)\\sum_{l\\in L_j} \\delta_l w_{jl}$$\n",
    "\n",
    "And, in particular, for output neurons:\n",
    "$$\\delta_j = \\frac{\\partial f_\\theta}{\\partial z_j}(x) \\sigma'(y_j) = \\sigma'(y_j)$$\n",
    "\n",
    "In short:\n",
    "$$\\boxed{\\delta_j = \\left\\{\\begin{array}{ll}\n",
    "\\sigma'(y_j) & \\textrm{for output neurons,}\\\\\n",
    "\\sigma'(y_j)\\sum_{l\\in L_j} \\delta_l w_{jl} & \\textrm{for other neurons.}\n",
    "\\end{array}\\right.}$$"
   ]
  },
  {
   "cell_type": "markdown",
   "metadata": {},
   "source": [
    "## 5.5 Backpropagation\n",
    "\n",
    "Let's summarize. The key to backpropagation is to remark that in all cases:\n",
    "$$\\frac{\\partial f_\\theta}{\\partial w_{ij}}(x) = \\delta_j x_{ij}.$$\n",
    "\n",
    "With \n",
    "$$\\delta_j = \\frac{\\partial f_\\theta}{\\partial z_j}(x) \\sigma'(y_j).$$\n",
    "\n",
    "If neuron $j$ is an output neuron, then $z_j$ is the $j$th component of $f_\\theta(x)$. So $ \\frac{\\partial f_\\theta}{\\partial z_j}(x) = 1$. Consequently, for those neurons:\n",
    "$$\\delta_j = \\frac{\\partial f_\\theta}{\\partial z_j}(x) \\sigma'(y_j) = \\sigma'(y_j).$$\n",
    "\n",
    "Recursively, once all the $\\delta_j$ for the output layer have been computed, we can compute the $\\delta_j$ for the last hidden layer as:\n",
    "$$\\delta_j = \\sigma'(y_j) \\sum_{l\\in L_j} \\delta_l w_{jl}.$$\n",
    "\n",
    "And the input weights of neuron $j$ can be updated as:\n",
    "$$w_{ij} \\leftarrow w_{ij} - \\alpha \\left(f_\\theta(x) - y\\right) \\delta_j x_{ij}.$$\n",
    "\n",
    "Once, all these weights have been updated and all the $\\delta_j$ have been computed for the corresponding neurons, we can move one layer back in the network, and so on until we reach the input layer.\n",
    "\n",
    "This algorithm is called *Backpropagation* of the gradient."
   ]
  },
  {
   "cell_type": "markdown",
   "metadata": {},
   "source": [
    "<div class=\"alert alert-success\">\n",
    "The backpropagation algorithm allows to update the networks weights.<br>\n",
    "\n",
    "**Forward pass:**\n",
    "<ol style=\"list-style-type:none\">\n",
    "<li> Input $x$\n",
    "<li> $\\lambda=$input layer\n",
    "<li> While $\\lambda\\neq$ output layer:\n",
    "    <ol style=\"list-style-type:none\">\n",
    "    <li>For $j$ in $\\lambda$:\n",
    "        <ol  style=\"list-style-type:none\"><li>Compute $y_j=\\sum w_{ij} x_{ij}$ and $z_j=\\sigma(y_j)$</ol>\n",
    "    <li> $\\lambda \\leftarrow$ next layer\n",
    "    <li> $x \\leftarrow z$\n",
    "    </ol>\n",
    "<li> Output $f_\\theta(x)$\n",
    "</ol>\n",
    "\n",
    "**Backpropagation:**\n",
    "<ol style=\"list-style-type:none\">\n",
    "<li> Output difference $\\Delta = f_\\theta(x) - y$\n",
    "<li> For $j$ in output layer $\\delta_j = \\sigma'(y_j)$\n",
    "<li> $\\lambda =$ output layer\n",
    "<li> While layer $\\lambda \\neq$ input layer:\n",
    "    <ol style=\"list-style-type:none\">\n",
    "    <li> For $j$ in $\\lambda$:\n",
    "        <ol style=\"list-style-type:none\">\n",
    "        <li>Compute $\\delta_j = \\sigma'(y_j) \\sum_{l\\in L} \\delta_l w_{jl}$ (only if not output layer)\n",
    "        <li>Update $w_{ij} \\leftarrow w_{ij} - \\alpha \\Delta \\delta_j x_{ij}$</ol>\n",
    "    <li> $\\lambda=$previous layer\n",
    "    </ol>\n",
    "</ol>\n",
    "</div>"
   ]
  },
  {
   "cell_type": "markdown",
   "metadata": {},
   "source": [
    "A number of things can be remarked to make this computation more streamlined and efficient.\n",
    "\n",
    "1. $\\sigma'(x)=\\sigma(x)\\left(1-\\sigma(x)\\right)$ so one can get $\\sigma'$ for free during the forward pass and store it.\n",
    "2. all operations of the backward pass can be written in matrix form (just as for the forward pass).\n",
    "3. in the notations above, $x_{0j}=1$ since it is the term that will be multiplied by the bias.\n",
    "4. for a given $j$, all $x_{ij}$ in the notations above are really the $z$ value of the layer before neuron $j$.\n",
    "\n",
    "One can easily rewrite the forward pass and the backpropagation as matrix/vector operations.<br>\n",
    "Let $\\lambda$ be the layer number, starting at 0 for the input layer.<br>\n",
    "Let $w_{\\lambda-1}$ denote the $p\\times q$ weight matrix before layer $\\lambda$ where $p$ is the size of layer $\\lambda$ and $q$ is the size of layer $\\lambda-1$ (plus one for the biases).<br>\n",
    "Finally, let $\\circ$ denote the element-wise product (Hadamard product) of two matrices."
   ]
  },
  {
   "cell_type": "markdown",
   "metadata": {},
   "source": [
    "<div class=\"alert alert-success\">\n",
    "\n",
    "**Forward pass:**\n",
    "<ol style=\"list-style-type:none\">\n",
    "<li> Input $x$\n",
    "<li> $\\lambda=1$\n",
    "<li> While $\\lambda\\neq$ output layer index:\n",
    "    <ol style=\"list-style-type:none\">\n",
    "    <li> Compute $y_\\lambda = w_{\\lambda-1}^T x$, \n",
    "    <li> Compute $z_\\lambda = \\sigma (y_\\lambda)$ and $s_\\lambda = \\sigma'(y_\\lambda)$\n",
    "    <li> $\\lambda \\leftarrow \\lambda+1$\n",
    "    <li> $x \\leftarrow z_\\lambda$\n",
    "    </ol>\n",
    "<li> Output $f_\\theta(x)$\n",
    "</ol>\n",
    "\n",
    "**Backpropagation:**\n",
    "<ol style=\"list-style-type:none\">\n",
    "<li> Output difference $\\Delta = f_\\theta(x) - y$\n",
    "<li> $\\lambda=$ output layer index\n",
    "<li> $\\delta_\\lambda = s_\\lambda$\n",
    "<li> $w_{\\lambda-1} \\leftarrow w_{\\lambda-1} - \\alpha \\Delta (\\delta_\\lambda \\cdot z_{\\lambda-1}^T)$\n",
    "<li> $\\lambda\\leftarrow \\lambda -1$\n",
    "<li> While $\\lambda \\neq 0$:\n",
    "    <ol style=\"list-style-type:none\">\n",
    "    <li> $\\delta_\\lambda = s_\\lambda \\circ (\\delta_{\\lambda+1}\\cdot w_\\lambda)$\n",
    "    <li> $w_{\\lambda-1} \\leftarrow w_{\\lambda-1} - \\alpha \\Delta (\\delta_\\lambda \\cdot z_{\\lambda-1}^T)$\n",
    "    <li> $\\lambda\\leftarrow \\lambda -1$\n",
    "    </ol>\n",
    "</ol>\n",
    "</div>"
   ]
  },
  {
   "cell_type": "markdown",
   "metadata": {},
   "source": [
    "Note that backpropagation is a very general principle for propagating gradients in a computational graph. Any activation function can be substituted in the expressions above, and a very similar derivation can be obtained for other loss functions (more on loss functions later).\n",
    "\n",
    "This is actually the core principle of [Automatic Differentiation](https://en.wikipedia.org/wiki/Automatic_differentiation) (or autodiff in short). \n",
    "1. Suppose that $F$ is a function graph of depth $D$, that is $F = f_1 \\circ f_2 \\circ \\ldots \\circ f_D$, \n",
    "2. and all the $f_i$ functions are differentiable with respect to their inputs.\n",
    "\n",
    "To retain the vocabulary of \"inputs and parameters\", let's write $(x_i,\\theta_i)$ the input of $f_i$. Then the reasoning we followed while deriving backprop can be applied to $F$: for a given $x_1=x$ and $\\theta=(\\theta_1,\\ldots,\\theta_D)$, the chain rule provides us with $\\nabla_{x_i} F(x,\\theta)$ and $\\nabla_{\\theta_i} F(x,\\theta)$, and we can compute them in a forward and a backward pass. \n",
    "\n",
    "More generally, let's see all scalar inputs and outputs of this function graph as nodes. The elements of $x$ are input nodes, but also all elements of $\\theta$. Then $F$ is a (possibly very large) directed graph where the elements of $x$ and $\\theta$ are inputs (entry points, at different depths of the graph). Let's write them $Y_{1}$ as if they were the output of a zeroth layer and the input of layer 1.\n",
    "\n",
    "Let's write $y_j$ the value of node $j$, and $Y$ the vector of values of node $j$'s parents in the graph. By definition, $y_j = f_j(Y_{j})$. Since we supposed $f_j$ was differentiable with respect to $Y_{j}$, we can store the Jacobian $\\frac{\\partial f_j}{\\partial Y_{j}}$ in each node $j$ during a forward pass. Then we can compute and store $\\nabla_{Y_j} F(Y_1)$  in all nodes $j$ in a backward pass."
   ]
  },
  {
   "cell_type": "markdown",
   "metadata": {},
   "source": [
    "# 5.6 Backpropagation in practice\n",
    "\n",
    "<div class=\"alert alert-warning\">\n",
    "    \n",
    "**Exercice (collective):**<br>\n",
    "Write a backpropagation pass for the minibatch containing the triplet $(x=(1,2),y=12.3)$, $(x=(3,1),y=3.4)$ and $(x=(2,5),y=5.1)$ on the network defined before.\n",
    "</div>\n",
    "\n",
    "To help fix ideas, the picture below summarizes all the data structures used.\n",
    "\n",
    "<img src=\"img/nn3.png\" width=\"600px\"></img>\n",
    "\n",
    "- in red, the network's data: w[i] and b[i] store the weights and biases,\n",
    "- in blue, what is computed during the forward pass, y[i] for $w^Tx$, s[i] for $\\sigma'(x)$, z[i] for neuron activations,\n",
    "- in green, what is computed during the backward pass, $\\delta$[i] and the weights and biases updates."
   ]
  },
  {
   "cell_type": "code",
   "execution_count": 11,
   "metadata": {
    "ExecuteTime": {
     "end_time": "2024-11-08T15:10:15.037552Z",
     "start_time": "2024-11-08T15:10:15.032029Z"
    }
   },
   "outputs": [],
   "source": [
    "def sigmoid(z):\n",
    "    \"\"\"The sigmoid function.\"\"\"\n",
    "    val = 1.0/(1.0+np.exp(-z))\n",
    "    der = val*(1.-val)\n",
    "    return val, der\n",
    "\n",
    "def forward_pass(x, verbose=False):\n",
    "    z = [np.zeros((x.shape[0], sz)) for sz in sizes]\n",
    "    s = [np.zeros((x.shape[0], sz)) for sz in sizes]\n",
    "    y = [np.zeros((x.shape[0], sz)) for sz in sizes]\n",
    "    z[0] = x.copy()\n",
    "    for i in range(1,len(sizes)):\n",
    "        if verbose:\n",
    "            print(\"# Forward propagation to layer\", i)\n",
    "        y[i] = np.dot(z[i-1],weights[i-1].T) + biases[i-1]\n",
    "        if verbose:\n",
    "            print(\"Neuron inputs:\", y[i])\n",
    "        if i==len(sizes)-1:\n",
    "            s[i] = np.ones((x.shape[0],sizes[-1]))\n",
    "            z[i] = y[i]\n",
    "        else:\n",
    "            v,d  = sigmoid(y[i])\n",
    "            s[i] = d\n",
    "            z[i] = v\n",
    "        if verbose:\n",
    "            print(\"Layer outputs:\", z[i])\n",
    "    return y,s,z"
   ]
  },
  {
   "cell_type": "markdown",
   "metadata": {},
   "source": [
    "Let's consider a batch of two training samples: $\\left(x=(1,2),y=12.3\\right)$ and $\\left(x=(3,1),y=3.4\\right)$."
   ]
  },
  {
   "cell_type": "code",
   "execution_count": 12,
   "metadata": {
    "ExecuteTime": {
     "end_time": "2024-11-08T15:10:15.087695Z",
     "start_time": "2024-11-08T15:10:15.083783Z"
    }
   },
   "outputs": [],
   "source": [
    "#input_value = np.array([[1,2]])\n",
    "#output_value = np.array([[12.3]])\n",
    "input_value = np.array([[1,2],[3,1],[2,5]])\n",
    "output_value = np.array([[12.3],[3.4],[5.1]])\n",
    "y,s,z = forward_pass(input_value, verbose=False)"
   ]
  },
  {
   "cell_type": "code",
   "execution_count": 13,
   "metadata": {
    "ExecuteTime": {
     "end_time": "2024-11-08T15:10:15.142687Z",
     "start_time": "2024-11-08T15:10:15.138585Z"
    }
   },
   "outputs": [
    {
     "name": "stdout",
     "output_type": "stream",
     "text": [
      "[[1 2]\n",
      " [3 1]\n",
      " [2 5]]\n",
      "[[0.61130345 0.13402298 0.9032536  0.95684187]\n",
      " [0.21843993 0.04237619 0.96874129 0.46019621]\n",
      " [0.82865521 0.01872058 0.84175063 0.99990458]]\n",
      "[[0.56206022 0.77880851 0.31588658]\n",
      " [0.61172179 0.68647426 0.50693102]\n",
      " [0.58883135 0.77562582 0.2766571 ]]\n",
      "[[-1.37764969]\n",
      " [-1.49511496]\n",
      " [-1.43567079]]\n"
     ]
    }
   ],
   "source": [
    "print(*z, sep=\"\\n\")"
   ]
  },
  {
   "cell_type": "code",
   "execution_count": 14,
   "metadata": {
    "ExecuteTime": {
     "end_time": "2024-11-08T15:10:15.196798Z",
     "start_time": "2024-11-08T15:10:15.191703Z"
    }
   },
   "outputs": [],
   "source": [
    "def backward_pass(out, y, s, z, alpha):\n",
    "    delta = [np.zeros((out.shape[0], sz)) for sz in sizes]\n",
    "    error = z[len(sizes)-1] - out\n",
    "    for i in range(len(sizes)-1,0,-1):\n",
    "        # compute delta\n",
    "        if i==len(sizes)-1:\n",
    "            delta[i] = s[len(sizes)-1]\n",
    "        else:\n",
    "            delta[i] = np.dot(delta[i+1],weights[i])\n",
    "            delta[i] = np.multiply(delta[i],s[i])\n",
    "        # intermediate delta value that includes the error term \n",
    "        # (useful for minibatches since each element has a different error value)\n",
    "        delta_temp = np.multiply(delta[i],error)\n",
    "        # update weights\n",
    "        grad_w = np.dot(delta_temp.T,z[i-1])\n",
    "        grad_b = np.sum(delta_temp, axis=0)\n",
    "        weights[i-1] -= alpha * grad_w\n",
    "        biases[i-1]  -= alpha * grad_b\n",
    "    return"
   ]
  },
  {
   "cell_type": "code",
   "execution_count": 15,
   "metadata": {
    "ExecuteTime": {
     "end_time": "2024-11-08T15:10:15.246538Z",
     "start_time": "2024-11-08T15:10:15.242851Z"
    },
    "scrolled": true
   },
   "outputs": [],
   "source": [
    "backward_pass(output_value, y, s, z, 0.1)"
   ]
  },
  {
   "cell_type": "markdown",
   "metadata": {},
   "source": [
    "Let's monitor the training error for various training sets and weight initialization."
   ]
  },
  {
   "cell_type": "code",
   "execution_count": 16,
   "metadata": {
    "ExecuteTime": {
     "end_time": "2024-11-08T15:10:15.295463Z",
     "start_time": "2024-11-08T15:10:15.291743Z"
    }
   },
   "outputs": [],
   "source": [
    "#input_value = np.array([[1,2]])\n",
    "#output_value = np.array([[12.3]])\n",
    "#input_value = np.array([[1,2],[3,1]])\n",
    "#output_value = np.array([[12.3],[3.4]])\n",
    "input_value = np.array([[1,2],[3,1],[2,5]])\n",
    "output_value = np.array([[12.3],[3.4],[5.1]])\n",
    "\n",
    "sizes = [2,4,3,1]\n",
    "biases = [np.random.randn(1,y) for y in sizes[1:]]\n",
    "weights = [np.random.randn(out,inp) for inp,out in zip(sizes[:-1],sizes[1:])]"
   ]
  },
  {
   "cell_type": "code",
   "execution_count": 17,
   "metadata": {
    "ExecuteTime": {
     "end_time": "2024-11-08T15:10:15.369585Z",
     "start_time": "2024-11-08T15:10:15.341987Z"
    },
    "scrolled": true
   },
   "outputs": [],
   "source": [
    "nsteps = 500\n",
    "training_loss = np.zeros(nsteps)\n",
    "for i in range(nsteps):\n",
    "    y,s,z = forward_pass(input_value, verbose=False)\n",
    "    training_loss[i] = np.mean((z[-1]-output_value)**2)\n",
    "    backward_pass(output_value, y, s, z, 0.1)"
   ]
  },
  {
   "cell_type": "code",
   "execution_count": 18,
   "metadata": {
    "ExecuteTime": {
     "end_time": "2024-11-08T15:10:15.543272Z",
     "start_time": "2024-11-08T15:10:15.401607Z"
    },
    "scrolled": true
   },
   "outputs": [
    {
     "data": {
      "image/png": "[encoded data removed]",
      "text/plain": [
       "<Figure size 640x480 with 1 Axes>"
      ]
     },
     "metadata": {},
     "output_type": "display_data"
    }
   ],
   "source": [
    "plt.semilogy(training_loss);"
   ]
  },
  {
   "cell_type": "code",
   "execution_count": 19,
   "metadata": {
    "ExecuteTime": {
     "end_time": "2024-11-08T15:10:15.575140Z",
     "start_time": "2024-11-08T15:10:15.571635Z"
    }
   },
   "outputs": [
    {
     "name": "stdout",
     "output_type": "stream",
     "text": [
      "[[12.3]\n",
      " [ 3.4]\n",
      " [ 5.1]]\n",
      "[[12.3]\n",
      " [ 3.4]\n",
      " [ 5.1]]\n"
     ]
    }
   ],
   "source": [
    "y,s,z = forward_pass(input_value, verbose=False)\n",
    "print(z[-1])\n",
    "print(output_value)"
   ]
  },
  {
   "cell_type": "markdown",
   "metadata": {},
   "source": [
    "Ok. It seems to work, we've learned a network that can memorize the three point-wise mappings:\n",
    "$$\\begin{array}{ccc} \n",
    "(1,2) & \\rightarrow & 12.3\\\\\n",
    "(3,1) & \\rightarrow & 3.4 \\\\\n",
    "(2,5) & \\rightarrow & 5.1\n",
    "\\end{array}$$\n",
    "\n",
    "That's a good start. Let's try to generalize this to any number of points. <br>\n",
    "Let's re-initialize and check the learning on the noise-less function $x_0,x_1\\mapsto \\sqrt{x_0+x_1}$.<br>\n",
    "This time we shall visualize both the training and testing error."
   ]
  },
  {
   "cell_type": "code",
   "execution_count": 20,
   "metadata": {
    "ExecuteTime": {
     "end_time": "2024-11-08T15:10:15.629859Z",
     "start_time": "2024-11-08T15:10:15.626787Z"
    }
   },
   "outputs": [],
   "source": [
    "sizes = [2,4,3,1]\n",
    "biases = [np.random.randn(1,y) for y in sizes[1:]]\n",
    "weights = [np.random.randn(out,inp) for inp,out in zip(sizes[:-1],sizes[1:])]"
   ]
  },
  {
   "cell_type": "code",
   "execution_count": 21,
   "metadata": {
    "ExecuteTime": {
     "end_time": "2024-11-08T15:10:15.688639Z",
     "start_time": "2024-11-08T15:10:15.681791Z"
    }
   },
   "outputs": [
    {
     "name": "stdout",
     "output_type": "stream",
     "text": [
      "Generalization loss estimate: 2.0715627497768074\n"
     ]
    }
   ],
   "source": [
    "# generate training and testing sets\n",
    "def func(x):\n",
    "    return np.sqrt(x[:,0]+x[:,1])\n",
    "\n",
    "testing_x  = np.random.uniform(size=(100,2))\n",
    "testing_y  = func(testing_x).reshape(-1,1)\n",
    "training_x = np.random.uniform(size=(100,2))\n",
    "training_y = func(training_x).reshape(-1,1)\n",
    "\n",
    "# compute initial generalization loss\n",
    "y,s,z = forward_pass(testing_x, verbose=False)\n",
    "err = np.mean((z[-1]-testing_y)**2)\n",
    "print(\"Generalization loss estimate:\",err)"
   ]
  },
  {
   "cell_type": "code",
   "execution_count": 22,
   "metadata": {
    "ExecuteTime": {
     "end_time": "2024-11-08T15:10:15.832922Z",
     "start_time": "2024-11-08T15:10:15.739065Z"
    }
   },
   "outputs": [],
   "source": [
    "nsteps = 1000\n",
    "training_loss = np.zeros(nsteps)\n",
    "testing_loss  = np.zeros(nsteps)\n",
    "\n",
    "for i in range(nsteps):\n",
    "    _,_,z_test = forward_pass(testing_x, verbose=False)\n",
    "    testing_loss[i]  = np.mean((z_test[-1]-testing_y)**2)\n",
    "    y_train,s_train,z_train = forward_pass(training_x, verbose=False)\n",
    "    training_loss[i] = np.mean((z_train[-1]-training_y)**2)\n",
    "    backward_pass(training_y, y_train, s_train, z_train, 0.001)"
   ]
  },
  {
   "cell_type": "code",
   "execution_count": 23,
   "metadata": {
    "ExecuteTime": {
     "end_time": "2024-11-08T15:10:15.999664Z",
     "start_time": "2024-11-08T15:10:15.861209Z"
    }
   },
   "outputs": [
    {
     "name": "stdout",
     "output_type": "stream",
     "text": [
      "last training loss: 0.0029723748882830568\n",
      "last generalization loss: 0.002908668016541448\n"
     ]
    },
    {
     "data": {
      "image/png": "[encoded data removed]",
      "text/plain": [
       "<Figure size 640x480 with 1 Axes>"
      ]
     },
     "metadata": {},
     "output_type": "display_data"
    }
   ],
   "source": [
    "plt.semilogy(training_loss, c='b')\n",
    "plt.semilogy(testing_loss, c='r')\n",
    "print(\"last training loss:\", training_loss[-1])\n",
    "print(\"last generalization loss:\", testing_loss[-1])"
   ]
  },
  {
   "cell_type": "markdown",
   "metadata": {},
   "source": [
    "Let's try some random values."
   ]
  },
  {
   "cell_type": "code",
   "execution_count": 24,
   "metadata": {
    "ExecuteTime": {
     "end_time": "2024-11-08T15:10:16.054078Z",
     "start_time": "2024-11-08T15:10:16.050609Z"
    }
   },
   "outputs": [
    {
     "name": "stdout",
     "output_type": "stream",
     "text": [
      "[[1.08092363]\n",
      " [1.05576555]\n",
      " [0.53518682]\n",
      " [0.88034722]\n",
      " [1.02791459]\n",
      " [0.85373557]\n",
      " [0.92905514]\n",
      " [0.35431842]\n",
      " [1.08818649]\n",
      " [0.80654135]]\n",
      "[[1.06899456]\n",
      " [1.08580755]\n",
      " [0.59467789]\n",
      " [0.94742329]\n",
      " [0.99485599]\n",
      " [0.85791965]\n",
      " [0.91237046]\n",
      " [0.51484457]\n",
      " [1.05311955]\n",
      " [0.78431758]]\n",
      "[[ 0.01192907]\n",
      " [-0.030042  ]\n",
      " [-0.05949107]\n",
      " [-0.06707607]\n",
      " [ 0.0330586 ]\n",
      " [-0.00418408]\n",
      " [ 0.01668468]\n",
      " [-0.16052615]\n",
      " [ 0.03506693]\n",
      " [ 0.02222377]]\n"
     ]
    }
   ],
   "source": [
    "x = np.random.uniform(size=(10,2))\n",
    "ztrue = func(x).reshape(-1,1)\n",
    "print(ztrue)\n",
    "_,_,zpred = forward_pass(x)\n",
    "print(zpred[-1])\n",
    "print(ztrue-zpred[-1])"
   ]
  },
  {
   "cell_type": "markdown",
   "metadata": {},
   "source": [
    "**Obervations.**<br>\n",
    "It (generally) works but it's not so impressive. Sometimes the weight optimization even diverges. But (in theory) we (should) have found the best possible fit for the neural network's weights since what we did was (attempt to) minimize the loss function. So what can go wrong?\n",
    "\n",
    "A few possible answers at this stage:\n",
    "- The $x_0,x_1\\mapsto \\sqrt{x_0+x_1}$ function just cannot be satisfyingly represented with this neural network architecture.\n",
    "- The stochastic gradient descent procedure got stuck in a local minimum of the loss function.\n",
    "- When divergence occured, the (constant) learning rate was not small enough to keep the gradient steps small.\n",
    "\n",
    "What's your opinion on these phenomena and their possible solutions?\n",
    "\n",
    "**Note.**<br>\n",
    "You can find this code wrapped-up as a Python class in `ann.py`"
   ]
  },
  {
   "cell_type": "markdown",
   "metadata": {},
   "source": [
    "# 5.7 MLP in scikit-learn\n",
    "\n",
    "Let's train our first neural network with scikit-learn."
   ]
  },
  {
   "cell_type": "code",
   "execution_count": 25,
   "metadata": {
    "ExecuteTime": {
     "end_time": "2024-11-08T15:10:16.239498Z",
     "start_time": "2024-11-08T15:10:16.105520Z"
    }
   },
   "outputs": [
    {
     "name": "stdout",
     "output_type": "stream",
     "text": [
      "nb points: 1000\n"
     ]
    },
    {
     "data": {
      "image/png": "[encoded data removed]",
      "text/plain": [
       "<Figure size 560x560 with 1 Axes>"
      ]
     },
     "metadata": {},
     "output_type": "display_data"
    }
   ],
   "source": [
    "def func(x):\n",
    "    x = 15.*x-5.\n",
    "    return x*np.sin(x)\n",
    "\n",
    "sigma_noise = 0.3\n",
    "def observation(x):\n",
    "    return func(x) + np.random.normal(0,sigma_noise,x.shape[0])\n",
    "\n",
    "X = np.linspace(0,1,1000)\n",
    "N = X.shape[0]\n",
    "Y = observation(X)\n",
    "x = np.linspace(0,1,100)\n",
    "\n",
    "fig=plt.figure(figsize=(7,7), dpi= 80, facecolor='w', edgecolor='k')\n",
    "plt.plot(X, Y, 'r.', markersize=10, label=u'Observations')\n",
    "plt.plot(x, func(x), 'b', label=u'$f(x) = x\\,\\sin(x)$')\n",
    "plt.xlabel('$x$')\n",
    "plt.ylabel('$f(x)$')\n",
    "plt.ylim(-6, 10)\n",
    "plt.legend(loc='upper left');\n",
    "\n",
    "print(\"nb points:\", N)\n",
    "\n",
    "X=X.reshape(-1,1)"
   ]
  },
  {
   "cell_type": "code",
   "execution_count": 26,
   "metadata": {
    "ExecuteTime": {
     "end_time": "2024-11-08T15:10:16.254514Z",
     "start_time": "2024-11-08T15:10:16.251445Z"
    },
    "scrolled": true
   },
   "outputs": [
    {
     "ename": "KeyboardInterrupt",
     "evalue": "",
     "output_type": "error",
     "traceback": [
      "\u001b[0;31m---------------------------------------------------------------------------\u001b[0m",
      "\u001b[0;31mKeyboardInterrupt\u001b[0m                         Traceback (most recent call last)",
      "Cell \u001b[0;32mIn[26], line 1\u001b[0m\n\u001b[0;32m----> 1\u001b[0m \u001b[38;5;28;01mfrom\u001b[39;00m \u001b[38;5;21;01msklearn\u001b[39;00m\u001b[38;5;21;01m.\u001b[39;00m\u001b[38;5;21;01mneural_network\u001b[39;00m \u001b[38;5;28;01mimport\u001b[39;00m MLPRegressor\n\u001b[1;32m      3\u001b[0m myNN \u001b[38;5;241m=\u001b[39m MLPRegressor(hidden_layer_sizes\u001b[38;5;241m=\u001b[39m(\u001b[38;5;241m4\u001b[39m, \u001b[38;5;241m4\u001b[39m, \u001b[38;5;241m4\u001b[39m), activation\u001b[38;5;241m=\u001b[39m\u001b[38;5;124m'\u001b[39m\u001b[38;5;124mtanh\u001b[39m\u001b[38;5;124m'\u001b[39m, solver\u001b[38;5;241m=\u001b[39m\u001b[38;5;124m'\u001b[39m\u001b[38;5;124mlbfgs\u001b[39m\u001b[38;5;124m'\u001b[39m, max_iter\u001b[38;5;241m=\u001b[39m\u001b[38;5;241m5000\u001b[39m, learning_rate_init\u001b[38;5;241m=\u001b[39m\u001b[38;5;241m0.1\u001b[39m) \n",
      "File \u001b[0;32m~/.local/lib/python3.10/site-packages/sklearn/__init__.py:84\u001b[0m\n\u001b[1;32m     70\u001b[0m     \u001b[38;5;66;03m# We are not importing the rest of scikit-learn during the build\u001b[39;00m\n\u001b[1;32m     71\u001b[0m     \u001b[38;5;66;03m# process, as it may not be compiled yet\u001b[39;00m\n\u001b[1;32m     72\u001b[0m \u001b[38;5;28;01melse\u001b[39;00m:\n\u001b[0;32m   (...)\u001b[0m\n\u001b[1;32m     78\u001b[0m     \u001b[38;5;66;03m# later is linked to the OpenMP runtime to make it possible to introspect\u001b[39;00m\n\u001b[1;32m     79\u001b[0m     \u001b[38;5;66;03m# it and importing it first would fail if the OpenMP dll cannot be found.\u001b[39;00m\n\u001b[1;32m     80\u001b[0m     \u001b[38;5;28;01mfrom\u001b[39;00m \u001b[38;5;21;01m.\u001b[39;00m \u001b[38;5;28;01mimport\u001b[39;00m (\n\u001b[1;32m     81\u001b[0m         __check_build,  \u001b[38;5;66;03m# noqa: F401\u001b[39;00m\n\u001b[1;32m     82\u001b[0m         _distributor_init,  \u001b[38;5;66;03m# noqa: F401\u001b[39;00m\n\u001b[1;32m     83\u001b[0m     )\n\u001b[0;32m---> 84\u001b[0m     \u001b[38;5;28;01mfrom\u001b[39;00m \u001b[38;5;21;01m.\u001b[39;00m\u001b[38;5;21;01mbase\u001b[39;00m \u001b[38;5;28;01mimport\u001b[39;00m clone\n\u001b[1;32m     85\u001b[0m     \u001b[38;5;28;01mfrom\u001b[39;00m \u001b[38;5;21;01m.\u001b[39;00m\u001b[38;5;21;01mutils\u001b[39;00m\u001b[38;5;21;01m.\u001b[39;00m\u001b[38;5;21;01m_show_versions\u001b[39;00m \u001b[38;5;28;01mimport\u001b[39;00m show_versions\n\u001b[1;32m     87\u001b[0m     __all__ \u001b[38;5;241m=\u001b[39m [\n\u001b[1;32m     88\u001b[0m         \u001b[38;5;124m\"\u001b[39m\u001b[38;5;124mcalibration\u001b[39m\u001b[38;5;124m\"\u001b[39m,\n\u001b[1;32m     89\u001b[0m         \u001b[38;5;124m\"\u001b[39m\u001b[38;5;124mcluster\u001b[39m\u001b[38;5;124m\"\u001b[39m,\n\u001b[0;32m   (...)\u001b[0m\n\u001b[1;32m    130\u001b[0m         \u001b[38;5;124m\"\u001b[39m\u001b[38;5;124mshow_versions\u001b[39m\u001b[38;5;124m\"\u001b[39m,\n\u001b[1;32m    131\u001b[0m     ]\n",
      "File \u001b[0;32m~/.local/lib/python3.10/site-packages/sklearn/base.py:19\u001b[0m\n\u001b[1;32m     17\u001b[0m \u001b[38;5;28;01mfrom\u001b[39;00m \u001b[38;5;21;01m.\u001b[39;00m\u001b[38;5;21;01m_config\u001b[39;00m \u001b[38;5;28;01mimport\u001b[39;00m config_context, get_config\n\u001b[1;32m     18\u001b[0m \u001b[38;5;28;01mfrom\u001b[39;00m \u001b[38;5;21;01m.\u001b[39;00m\u001b[38;5;21;01mexceptions\u001b[39;00m \u001b[38;5;28;01mimport\u001b[39;00m InconsistentVersionWarning\n\u001b[0;32m---> 19\u001b[0m \u001b[38;5;28;01mfrom\u001b[39;00m \u001b[38;5;21;01m.\u001b[39;00m\u001b[38;5;21;01mutils\u001b[39;00m\u001b[38;5;21;01m.\u001b[39;00m\u001b[38;5;21;01m_estimator_html_repr\u001b[39;00m \u001b[38;5;28;01mimport\u001b[39;00m _HTMLDocumentationLinkMixin, estimator_html_repr\n\u001b[1;32m     20\u001b[0m \u001b[38;5;28;01mfrom\u001b[39;00m \u001b[38;5;21;01m.\u001b[39;00m\u001b[38;5;21;01mutils\u001b[39;00m\u001b[38;5;21;01m.\u001b[39;00m\u001b[38;5;21;01m_metadata_requests\u001b[39;00m \u001b[38;5;28;01mimport\u001b[39;00m _MetadataRequester, _routing_enabled\n\u001b[1;32m     21\u001b[0m \u001b[38;5;28;01mfrom\u001b[39;00m \u001b[38;5;21;01m.\u001b[39;00m\u001b[38;5;21;01mutils\u001b[39;00m\u001b[38;5;21;01m.\u001b[39;00m\u001b[38;5;21;01m_param_validation\u001b[39;00m \u001b[38;5;28;01mimport\u001b[39;00m validate_parameter_constraints\n",
      "File \u001b[0;32m~/.local/lib/python3.10/site-packages/sklearn/utils/__init__.py:11\u001b[0m\n\u001b[1;32m      9\u001b[0m \u001b[38;5;28;01mfrom\u001b[39;00m \u001b[38;5;21;01m.\u001b[39;00m \u001b[38;5;28;01mimport\u001b[39;00m _joblib, metadata_routing\n\u001b[1;32m     10\u001b[0m \u001b[38;5;28;01mfrom\u001b[39;00m \u001b[38;5;21;01m.\u001b[39;00m\u001b[38;5;21;01m_bunch\u001b[39;00m \u001b[38;5;28;01mimport\u001b[39;00m Bunch\n\u001b[0;32m---> 11\u001b[0m \u001b[38;5;28;01mfrom\u001b[39;00m \u001b[38;5;21;01m.\u001b[39;00m\u001b[38;5;21;01m_chunking\u001b[39;00m \u001b[38;5;28;01mimport\u001b[39;00m gen_batches, gen_even_slices\n\u001b[1;32m     12\u001b[0m \u001b[38;5;28;01mfrom\u001b[39;00m \u001b[38;5;21;01m.\u001b[39;00m\u001b[38;5;21;01m_estimator_html_repr\u001b[39;00m \u001b[38;5;28;01mimport\u001b[39;00m estimator_html_repr\n\u001b[1;32m     14\u001b[0m \u001b[38;5;66;03m# Make _safe_indexing importable from here for backward compat as this particular\u001b[39;00m\n\u001b[1;32m     15\u001b[0m \u001b[38;5;66;03m# helper is considered semi-private and typically very useful for third-party\u001b[39;00m\n\u001b[1;32m     16\u001b[0m \u001b[38;5;66;03m# libraries that want to comply with scikit-learn's estimator API. In particular,\u001b[39;00m\n\u001b[1;32m     17\u001b[0m \u001b[38;5;66;03m# _safe_indexing was included in our public API documentation despite the leading\u001b[39;00m\n\u001b[1;32m     18\u001b[0m \u001b[38;5;66;03m# `_` in its name.\u001b[39;00m\n",
      "File \u001b[0;32m~/.local/lib/python3.10/site-packages/sklearn/utils/_chunking.py:8\u001b[0m\n\u001b[1;32m      5\u001b[0m \u001b[38;5;28;01mimport\u001b[39;00m \u001b[38;5;21;01mnumpy\u001b[39;00m \u001b[38;5;28;01mas\u001b[39;00m \u001b[38;5;21;01mnp\u001b[39;00m\n\u001b[1;32m      7\u001b[0m \u001b[38;5;28;01mfrom\u001b[39;00m \u001b[38;5;21;01m.\u001b[39;00m\u001b[38;5;21;01m.\u001b[39;00m\u001b[38;5;21;01m_config\u001b[39;00m \u001b[38;5;28;01mimport\u001b[39;00m get_config\n\u001b[0;32m----> 8\u001b[0m \u001b[38;5;28;01mfrom\u001b[39;00m \u001b[38;5;21;01m.\u001b[39;00m\u001b[38;5;21;01m_param_validation\u001b[39;00m \u001b[38;5;28;01mimport\u001b[39;00m Interval, validate_params\n\u001b[1;32m     11\u001b[0m \u001b[38;5;28;01mdef\u001b[39;00m \u001b[38;5;21mchunk_generator\u001b[39m(gen, chunksize):\n\u001b[1;32m     12\u001b[0m \u001b[38;5;250m    \u001b[39m\u001b[38;5;124;03m\"\"\"Chunk generator, ``gen`` into lists of length ``chunksize``. The last\u001b[39;00m\n\u001b[1;32m     13\u001b[0m \u001b[38;5;124;03m    chunk may have a length less than ``chunksize``.\"\"\"\u001b[39;00m\n",
      "File \u001b[0;32m~/.local/lib/python3.10/site-packages/sklearn/utils/_param_validation.py:14\u001b[0m\n\u001b[1;32m     11\u001b[0m \u001b[38;5;28;01mfrom\u001b[39;00m \u001b[38;5;21;01mscipy\u001b[39;00m\u001b[38;5;21;01m.\u001b[39;00m\u001b[38;5;21;01msparse\u001b[39;00m \u001b[38;5;28;01mimport\u001b[39;00m csr_matrix, issparse\n\u001b[1;32m     13\u001b[0m \u001b[38;5;28;01mfrom\u001b[39;00m \u001b[38;5;21;01m.\u001b[39;00m\u001b[38;5;21;01m.\u001b[39;00m\u001b[38;5;21;01m_config\u001b[39;00m \u001b[38;5;28;01mimport\u001b[39;00m config_context, get_config\n\u001b[0;32m---> 14\u001b[0m \u001b[38;5;28;01mfrom\u001b[39;00m \u001b[38;5;21;01m.\u001b[39;00m\u001b[38;5;21;01mvalidation\u001b[39;00m \u001b[38;5;28;01mimport\u001b[39;00m _is_arraylike_not_scalar\n\u001b[1;32m     17\u001b[0m \u001b[38;5;28;01mclass\u001b[39;00m \u001b[38;5;21;01mInvalidParameterError\u001b[39;00m(\u001b[38;5;167;01mValueError\u001b[39;00m, \u001b[38;5;167;01mTypeError\u001b[39;00m):\n\u001b[1;32m     18\u001b[0m \u001b[38;5;250m    \u001b[39m\u001b[38;5;124;03m\"\"\"Custom exception to be raised when the parameter of a class/method/function\u001b[39;00m\n\u001b[1;32m     19\u001b[0m \u001b[38;5;124;03m    does not have a valid type or value.\u001b[39;00m\n\u001b[1;32m     20\u001b[0m \u001b[38;5;124;03m    \"\"\"\u001b[39;00m\n",
      "File \u001b[0;32m~/.local/lib/python3.10/site-packages/sklearn/utils/validation.py:26\u001b[0m\n\u001b[1;32m     24\u001b[0m \u001b[38;5;28;01mfrom\u001b[39;00m \u001b[38;5;21;01m.\u001b[39;00m\u001b[38;5;21;01m.\u001b[39;00m \u001b[38;5;28;01mimport\u001b[39;00m get_config \u001b[38;5;28;01mas\u001b[39;00m _get_config\n\u001b[1;32m     25\u001b[0m \u001b[38;5;28;01mfrom\u001b[39;00m \u001b[38;5;21;01m.\u001b[39;00m\u001b[38;5;21;01m.\u001b[39;00m\u001b[38;5;21;01mexceptions\u001b[39;00m \u001b[38;5;28;01mimport\u001b[39;00m DataConversionWarning, NotFittedError, PositiveSpectrumWarning\n\u001b[0;32m---> 26\u001b[0m \u001b[38;5;28;01mfrom\u001b[39;00m \u001b[38;5;21;01m.\u001b[39;00m\u001b[38;5;21;01m.\u001b[39;00m\u001b[38;5;21;01mutils\u001b[39;00m\u001b[38;5;21;01m.\u001b[39;00m\u001b[38;5;21;01m_array_api\u001b[39;00m \u001b[38;5;28;01mimport\u001b[39;00m _asarray_with_order, _is_numpy_namespace, get_namespace\n\u001b[1;32m     27\u001b[0m \u001b[38;5;28;01mfrom\u001b[39;00m \u001b[38;5;21;01m.\u001b[39;00m\u001b[38;5;21;01m.\u001b[39;00m\u001b[38;5;21;01mutils\u001b[39;00m\u001b[38;5;21;01m.\u001b[39;00m\u001b[38;5;21;01mfixes\u001b[39;00m \u001b[38;5;28;01mimport\u001b[39;00m ComplexWarning, _preserve_dia_indices_dtype\n\u001b[1;32m     28\u001b[0m \u001b[38;5;28;01mfrom\u001b[39;00m \u001b[38;5;21;01m.\u001b[39;00m\u001b[38;5;21;01m_isfinite\u001b[39;00m \u001b[38;5;28;01mimport\u001b[39;00m FiniteStatus, cy_isfinite\n",
      "File \u001b[0;32m~/.local/lib/python3.10/site-packages/sklearn/utils/_array_api.py:11\u001b[0m\n\u001b[1;32m      8\u001b[0m \u001b[38;5;28;01mimport\u001b[39;00m \u001b[38;5;21;01mscipy\u001b[39;00m\u001b[38;5;21;01m.\u001b[39;00m\u001b[38;5;21;01mspecial\u001b[39;00m \u001b[38;5;28;01mas\u001b[39;00m \u001b[38;5;21;01mspecial\u001b[39;00m\n\u001b[1;32m     10\u001b[0m \u001b[38;5;28;01mfrom\u001b[39;00m \u001b[38;5;21;01m.\u001b[39;00m\u001b[38;5;21;01m.\u001b[39;00m\u001b[38;5;21;01m_config\u001b[39;00m \u001b[38;5;28;01mimport\u001b[39;00m get_config\n\u001b[0;32m---> 11\u001b[0m \u001b[38;5;28;01mfrom\u001b[39;00m \u001b[38;5;21;01m.\u001b[39;00m\u001b[38;5;21;01mfixes\u001b[39;00m \u001b[38;5;28;01mimport\u001b[39;00m parse_version\n\u001b[1;32m     13\u001b[0m _NUMPY_NAMESPACE_NAMES \u001b[38;5;241m=\u001b[39m {\u001b[38;5;124m\"\u001b[39m\u001b[38;5;124mnumpy\u001b[39m\u001b[38;5;124m\"\u001b[39m, \u001b[38;5;124m\"\u001b[39m\u001b[38;5;124marray_api_compat.numpy\u001b[39m\u001b[38;5;124m\"\u001b[39m}\n\u001b[1;32m     16\u001b[0m \u001b[38;5;28;01mdef\u001b[39;00m \u001b[38;5;21myield_namespaces\u001b[39m(include_numpy_namespaces\u001b[38;5;241m=\u001b[39m\u001b[38;5;28;01mTrue\u001b[39;00m):\n",
      "File \u001b[0;32m~/.local/lib/python3.10/site-packages/sklearn/utils/fixes.py:24\u001b[0m\n\u001b[1;32m     21\u001b[0m \u001b[38;5;28;01mimport\u001b[39;00m \u001b[38;5;21;01mscipy\u001b[39;00m\u001b[38;5;21;01m.\u001b[39;00m\u001b[38;5;21;01mstats\u001b[39;00m\n\u001b[1;32m     23\u001b[0m \u001b[38;5;28;01mtry\u001b[39;00m:\n\u001b[0;32m---> 24\u001b[0m     \u001b[38;5;28;01mimport\u001b[39;00m \u001b[38;5;21;01mpandas\u001b[39;00m \u001b[38;5;28;01mas\u001b[39;00m \u001b[38;5;21;01mpd\u001b[39;00m\n\u001b[1;32m     25\u001b[0m \u001b[38;5;28;01mexcept\u001b[39;00m \u001b[38;5;167;01mImportError\u001b[39;00m:\n\u001b[1;32m     26\u001b[0m     pd \u001b[38;5;241m=\u001b[39m \u001b[38;5;28;01mNone\u001b[39;00m\n",
      "File \u001b[0;32m~/.local/lib/python3.10/site-packages/pandas/__init__.py:49\u001b[0m\n\u001b[1;32m     46\u001b[0m \u001b[38;5;66;03m# let init-time option registration happen\u001b[39;00m\n\u001b[1;32m     47\u001b[0m \u001b[38;5;28;01mimport\u001b[39;00m \u001b[38;5;21;01mpandas\u001b[39;00m\u001b[38;5;21;01m.\u001b[39;00m\u001b[38;5;21;01mcore\u001b[39;00m\u001b[38;5;21;01m.\u001b[39;00m\u001b[38;5;21;01mconfig_init\u001b[39;00m  \u001b[38;5;66;03m# pyright: ignore[reportUnusedImport] # noqa: F401\u001b[39;00m\n\u001b[0;32m---> 49\u001b[0m \u001b[38;5;28;01mfrom\u001b[39;00m \u001b[38;5;21;01mpandas\u001b[39;00m\u001b[38;5;21;01m.\u001b[39;00m\u001b[38;5;21;01mcore\u001b[39;00m\u001b[38;5;21;01m.\u001b[39;00m\u001b[38;5;21;01mapi\u001b[39;00m \u001b[38;5;28;01mimport\u001b[39;00m (\n\u001b[1;32m     50\u001b[0m     \u001b[38;5;66;03m# dtype\u001b[39;00m\n\u001b[1;32m     51\u001b[0m     ArrowDtype,\n\u001b[1;32m     52\u001b[0m     Int8Dtype,\n\u001b[1;32m     53\u001b[0m     Int16Dtype,\n\u001b[1;32m     54\u001b[0m     Int32Dtype,\n\u001b[1;32m     55\u001b[0m     Int64Dtype,\n\u001b[1;32m     56\u001b[0m     UInt8Dtype,\n\u001b[1;32m     57\u001b[0m     UInt16Dtype,\n\u001b[1;32m     58\u001b[0m     UInt32Dtype,\n\u001b[1;32m     59\u001b[0m     UInt64Dtype,\n\u001b[1;32m     60\u001b[0m     Float32Dtype,\n\u001b[1;32m     61\u001b[0m     Float64Dtype,\n\u001b[1;32m     62\u001b[0m     CategoricalDtype,\n\u001b[1;32m     63\u001b[0m     PeriodDtype,\n\u001b[1;32m     64\u001b[0m     IntervalDtype,\n\u001b[1;32m     65\u001b[0m     DatetimeTZDtype,\n\u001b[1;32m     66\u001b[0m     StringDtype,\n\u001b[1;32m     67\u001b[0m     BooleanDtype,\n\u001b[1;32m     68\u001b[0m     \u001b[38;5;66;03m# missing\u001b[39;00m\n\u001b[1;32m     69\u001b[0m     NA,\n\u001b[1;32m     70\u001b[0m     isna,\n\u001b[1;32m     71\u001b[0m     isnull,\n\u001b[1;32m     72\u001b[0m     notna,\n\u001b[1;32m     73\u001b[0m     notnull,\n\u001b[1;32m     74\u001b[0m     \u001b[38;5;66;03m# indexes\u001b[39;00m\n\u001b[1;32m     75\u001b[0m     Index,\n\u001b[1;32m     76\u001b[0m     CategoricalIndex,\n\u001b[1;32m     77\u001b[0m     RangeIndex,\n\u001b[1;32m     78\u001b[0m     MultiIndex,\n\u001b[1;32m     79\u001b[0m     IntervalIndex,\n\u001b[1;32m     80\u001b[0m     TimedeltaIndex,\n\u001b[1;32m     81\u001b[0m     DatetimeIndex,\n\u001b[1;32m     82\u001b[0m     PeriodIndex,\n\u001b[1;32m     83\u001b[0m     IndexSlice,\n\u001b[1;32m     84\u001b[0m     \u001b[38;5;66;03m# tseries\u001b[39;00m\n\u001b[1;32m     85\u001b[0m     NaT,\n\u001b[1;32m     86\u001b[0m     Period,\n\u001b[1;32m     87\u001b[0m     period_range,\n\u001b[1;32m     88\u001b[0m     Timedelta,\n\u001b[1;32m     89\u001b[0m     timedelta_range,\n\u001b[1;32m     90\u001b[0m     Timestamp,\n\u001b[1;32m     91\u001b[0m     date_range,\n\u001b[1;32m     92\u001b[0m     bdate_range,\n\u001b[1;32m     93\u001b[0m     Interval,\n\u001b[1;32m     94\u001b[0m     interval_range,\n\u001b[1;32m     95\u001b[0m     DateOffset,\n\u001b[1;32m     96\u001b[0m     \u001b[38;5;66;03m# conversion\u001b[39;00m\n\u001b[1;32m     97\u001b[0m     to_numeric,\n\u001b[1;32m     98\u001b[0m     to_datetime,\n\u001b[1;32m     99\u001b[0m     to_timedelta,\n\u001b[1;32m    100\u001b[0m     \u001b[38;5;66;03m# misc\u001b[39;00m\n\u001b[1;32m    101\u001b[0m     Flags,\n\u001b[1;32m    102\u001b[0m     Grouper,\n\u001b[1;32m    103\u001b[0m     factorize,\n\u001b[1;32m    104\u001b[0m     unique,\n\u001b[1;32m    105\u001b[0m     value_counts,\n\u001b[1;32m    106\u001b[0m     NamedAgg,\n\u001b[1;32m    107\u001b[0m     array,\n\u001b[1;32m    108\u001b[0m     Categorical,\n\u001b[1;32m    109\u001b[0m     set_eng_float_format,\n\u001b[1;32m    110\u001b[0m     Series,\n\u001b[1;32m    111\u001b[0m     DataFrame,\n\u001b[1;32m    112\u001b[0m )\n\u001b[1;32m    114\u001b[0m \u001b[38;5;28;01mfrom\u001b[39;00m \u001b[38;5;21;01mpandas\u001b[39;00m\u001b[38;5;21;01m.\u001b[39;00m\u001b[38;5;21;01mcore\u001b[39;00m\u001b[38;5;21;01m.\u001b[39;00m\u001b[38;5;21;01mdtypes\u001b[39;00m\u001b[38;5;21;01m.\u001b[39;00m\u001b[38;5;21;01mdtypes\u001b[39;00m \u001b[38;5;28;01mimport\u001b[39;00m SparseDtype\n\u001b[1;32m    116\u001b[0m \u001b[38;5;28;01mfrom\u001b[39;00m \u001b[38;5;21;01mpandas\u001b[39;00m\u001b[38;5;21;01m.\u001b[39;00m\u001b[38;5;21;01mtseries\u001b[39;00m\u001b[38;5;21;01m.\u001b[39;00m\u001b[38;5;21;01mapi\u001b[39;00m \u001b[38;5;28;01mimport\u001b[39;00m infer_freq\n",
      "File \u001b[0;32m~/.local/lib/python3.10/site-packages/pandas/core/api.py:47\u001b[0m\n\u001b[1;32m     45\u001b[0m \u001b[38;5;28;01mfrom\u001b[39;00m \u001b[38;5;21;01mpandas\u001b[39;00m\u001b[38;5;21;01m.\u001b[39;00m\u001b[38;5;21;01mcore\u001b[39;00m\u001b[38;5;21;01m.\u001b[39;00m\u001b[38;5;21;01mconstruction\u001b[39;00m \u001b[38;5;28;01mimport\u001b[39;00m array\n\u001b[1;32m     46\u001b[0m \u001b[38;5;28;01mfrom\u001b[39;00m \u001b[38;5;21;01mpandas\u001b[39;00m\u001b[38;5;21;01m.\u001b[39;00m\u001b[38;5;21;01mcore\u001b[39;00m\u001b[38;5;21;01m.\u001b[39;00m\u001b[38;5;21;01mflags\u001b[39;00m \u001b[38;5;28;01mimport\u001b[39;00m Flags\n\u001b[0;32m---> 47\u001b[0m \u001b[38;5;28;01mfrom\u001b[39;00m \u001b[38;5;21;01mpandas\u001b[39;00m\u001b[38;5;21;01m.\u001b[39;00m\u001b[38;5;21;01mcore\u001b[39;00m\u001b[38;5;21;01m.\u001b[39;00m\u001b[38;5;21;01mgroupby\u001b[39;00m \u001b[38;5;28;01mimport\u001b[39;00m (\n\u001b[1;32m     48\u001b[0m     Grouper,\n\u001b[1;32m     49\u001b[0m     NamedAgg,\n\u001b[1;32m     50\u001b[0m )\n\u001b[1;32m     51\u001b[0m \u001b[38;5;28;01mfrom\u001b[39;00m \u001b[38;5;21;01mpandas\u001b[39;00m\u001b[38;5;21;01m.\u001b[39;00m\u001b[38;5;21;01mcore\u001b[39;00m\u001b[38;5;21;01m.\u001b[39;00m\u001b[38;5;21;01mindexes\u001b[39;00m\u001b[38;5;21;01m.\u001b[39;00m\u001b[38;5;21;01mapi\u001b[39;00m \u001b[38;5;28;01mimport\u001b[39;00m (\n\u001b[1;32m     52\u001b[0m     CategoricalIndex,\n\u001b[1;32m     53\u001b[0m     DatetimeIndex,\n\u001b[0;32m   (...)\u001b[0m\n\u001b[1;32m     59\u001b[0m     TimedeltaIndex,\n\u001b[1;32m     60\u001b[0m )\n\u001b[1;32m     61\u001b[0m \u001b[38;5;28;01mfrom\u001b[39;00m \u001b[38;5;21;01mpandas\u001b[39;00m\u001b[38;5;21;01m.\u001b[39;00m\u001b[38;5;21;01mcore\u001b[39;00m\u001b[38;5;21;01m.\u001b[39;00m\u001b[38;5;21;01mindexes\u001b[39;00m\u001b[38;5;21;01m.\u001b[39;00m\u001b[38;5;21;01mdatetimes\u001b[39;00m \u001b[38;5;28;01mimport\u001b[39;00m (\n\u001b[1;32m     62\u001b[0m     bdate_range,\n\u001b[1;32m     63\u001b[0m     date_range,\n\u001b[1;32m     64\u001b[0m )\n",
      "File \u001b[0;32m~/.local/lib/python3.10/site-packages/pandas/core/groupby/__init__.py:1\u001b[0m\n\u001b[0;32m----> 1\u001b[0m \u001b[38;5;28;01mfrom\u001b[39;00m \u001b[38;5;21;01mpandas\u001b[39;00m\u001b[38;5;21;01m.\u001b[39;00m\u001b[38;5;21;01mcore\u001b[39;00m\u001b[38;5;21;01m.\u001b[39;00m\u001b[38;5;21;01mgroupby\u001b[39;00m\u001b[38;5;21;01m.\u001b[39;00m\u001b[38;5;21;01mgeneric\u001b[39;00m \u001b[38;5;28;01mimport\u001b[39;00m (\n\u001b[1;32m      2\u001b[0m     DataFrameGroupBy,\n\u001b[1;32m      3\u001b[0m     NamedAgg,\n\u001b[1;32m      4\u001b[0m     SeriesGroupBy,\n\u001b[1;32m      5\u001b[0m )\n\u001b[1;32m      6\u001b[0m \u001b[38;5;28;01mfrom\u001b[39;00m \u001b[38;5;21;01mpandas\u001b[39;00m\u001b[38;5;21;01m.\u001b[39;00m\u001b[38;5;21;01mcore\u001b[39;00m\u001b[38;5;21;01m.\u001b[39;00m\u001b[38;5;21;01mgroupby\u001b[39;00m\u001b[38;5;21;01m.\u001b[39;00m\u001b[38;5;21;01mgroupby\u001b[39;00m \u001b[38;5;28;01mimport\u001b[39;00m GroupBy\n\u001b[1;32m      7\u001b[0m \u001b[38;5;28;01mfrom\u001b[39;00m \u001b[38;5;21;01mpandas\u001b[39;00m\u001b[38;5;21;01m.\u001b[39;00m\u001b[38;5;21;01mcore\u001b[39;00m\u001b[38;5;21;01m.\u001b[39;00m\u001b[38;5;21;01mgroupby\u001b[39;00m\u001b[38;5;21;01m.\u001b[39;00m\u001b[38;5;21;01mgrouper\u001b[39;00m \u001b[38;5;28;01mimport\u001b[39;00m Grouper\n",
      "File \u001b[0;32m~/.local/lib/python3.10/site-packages/pandas/core/groupby/generic.py:68\u001b[0m\n\u001b[1;32m     60\u001b[0m \u001b[38;5;28;01mfrom\u001b[39;00m \u001b[38;5;21;01mpandas\u001b[39;00m\u001b[38;5;21;01m.\u001b[39;00m\u001b[38;5;21;01mcore\u001b[39;00m\u001b[38;5;21;01m.\u001b[39;00m\u001b[38;5;21;01mapply\u001b[39;00m \u001b[38;5;28;01mimport\u001b[39;00m (\n\u001b[1;32m     61\u001b[0m     GroupByApply,\n\u001b[1;32m     62\u001b[0m     maybe_mangle_lambdas,\n\u001b[0;32m   (...)\u001b[0m\n\u001b[1;32m     65\u001b[0m     warn_alias_replacement,\n\u001b[1;32m     66\u001b[0m )\n\u001b[1;32m     67\u001b[0m \u001b[38;5;28;01mimport\u001b[39;00m \u001b[38;5;21;01mpandas\u001b[39;00m\u001b[38;5;21;01m.\u001b[39;00m\u001b[38;5;21;01mcore\u001b[39;00m\u001b[38;5;21;01m.\u001b[39;00m\u001b[38;5;21;01mcommon\u001b[39;00m \u001b[38;5;28;01mas\u001b[39;00m \u001b[38;5;21;01mcom\u001b[39;00m\n\u001b[0;32m---> 68\u001b[0m \u001b[38;5;28;01mfrom\u001b[39;00m \u001b[38;5;21;01mpandas\u001b[39;00m\u001b[38;5;21;01m.\u001b[39;00m\u001b[38;5;21;01mcore\u001b[39;00m\u001b[38;5;21;01m.\u001b[39;00m\u001b[38;5;21;01mframe\u001b[39;00m \u001b[38;5;28;01mimport\u001b[39;00m DataFrame\n\u001b[1;32m     69\u001b[0m \u001b[38;5;28;01mfrom\u001b[39;00m \u001b[38;5;21;01mpandas\u001b[39;00m\u001b[38;5;21;01m.\u001b[39;00m\u001b[38;5;21;01mcore\u001b[39;00m\u001b[38;5;21;01m.\u001b[39;00m\u001b[38;5;21;01mgroupby\u001b[39;00m \u001b[38;5;28;01mimport\u001b[39;00m (\n\u001b[1;32m     70\u001b[0m     base,\n\u001b[1;32m     71\u001b[0m     ops,\n\u001b[1;32m     72\u001b[0m )\n\u001b[1;32m     73\u001b[0m \u001b[38;5;28;01mfrom\u001b[39;00m \u001b[38;5;21;01mpandas\u001b[39;00m\u001b[38;5;21;01m.\u001b[39;00m\u001b[38;5;21;01mcore\u001b[39;00m\u001b[38;5;21;01m.\u001b[39;00m\u001b[38;5;21;01mgroupby\u001b[39;00m\u001b[38;5;21;01m.\u001b[39;00m\u001b[38;5;21;01mgroupby\u001b[39;00m \u001b[38;5;28;01mimport\u001b[39;00m (\n\u001b[1;32m     74\u001b[0m     GroupBy,\n\u001b[1;32m     75\u001b[0m     GroupByPlot,\n\u001b[0;32m   (...)\u001b[0m\n\u001b[1;32m     79\u001b[0m     _transform_template,\n\u001b[1;32m     80\u001b[0m )\n",
      "File \u001b[0;32m~/.local/lib/python3.10/site-packages/pandas/core/frame.py:149\u001b[0m\n\u001b[1;32m    143\u001b[0m \u001b[38;5;28;01mfrom\u001b[39;00m \u001b[38;5;21;01mpandas\u001b[39;00m\u001b[38;5;21;01m.\u001b[39;00m\u001b[38;5;21;01mcore\u001b[39;00m\u001b[38;5;21;01m.\u001b[39;00m\u001b[38;5;21;01marrays\u001b[39;00m\u001b[38;5;21;01m.\u001b[39;00m\u001b[38;5;21;01msparse\u001b[39;00m \u001b[38;5;28;01mimport\u001b[39;00m SparseFrameAccessor\n\u001b[1;32m    144\u001b[0m \u001b[38;5;28;01mfrom\u001b[39;00m \u001b[38;5;21;01mpandas\u001b[39;00m\u001b[38;5;21;01m.\u001b[39;00m\u001b[38;5;21;01mcore\u001b[39;00m\u001b[38;5;21;01m.\u001b[39;00m\u001b[38;5;21;01mconstruction\u001b[39;00m \u001b[38;5;28;01mimport\u001b[39;00m (\n\u001b[1;32m    145\u001b[0m     ensure_wrapped_if_datetimelike,\n\u001b[1;32m    146\u001b[0m     sanitize_array,\n\u001b[1;32m    147\u001b[0m     sanitize_masked_array,\n\u001b[1;32m    148\u001b[0m )\n\u001b[0;32m--> 149\u001b[0m \u001b[38;5;28;01mfrom\u001b[39;00m \u001b[38;5;21;01mpandas\u001b[39;00m\u001b[38;5;21;01m.\u001b[39;00m\u001b[38;5;21;01mcore\u001b[39;00m\u001b[38;5;21;01m.\u001b[39;00m\u001b[38;5;21;01mgeneric\u001b[39;00m \u001b[38;5;28;01mimport\u001b[39;00m (\n\u001b[1;32m    150\u001b[0m     NDFrame,\n\u001b[1;32m    151\u001b[0m     make_doc,\n\u001b[1;32m    152\u001b[0m )\n\u001b[1;32m    153\u001b[0m \u001b[38;5;28;01mfrom\u001b[39;00m \u001b[38;5;21;01mpandas\u001b[39;00m\u001b[38;5;21;01m.\u001b[39;00m\u001b[38;5;21;01mcore\u001b[39;00m\u001b[38;5;21;01m.\u001b[39;00m\u001b[38;5;21;01mindexers\u001b[39;00m \u001b[38;5;28;01mimport\u001b[39;00m check_key_length\n\u001b[1;32m    154\u001b[0m \u001b[38;5;28;01mfrom\u001b[39;00m \u001b[38;5;21;01mpandas\u001b[39;00m\u001b[38;5;21;01m.\u001b[39;00m\u001b[38;5;21;01mcore\u001b[39;00m\u001b[38;5;21;01m.\u001b[39;00m\u001b[38;5;21;01mindexes\u001b[39;00m\u001b[38;5;21;01m.\u001b[39;00m\u001b[38;5;21;01mapi\u001b[39;00m \u001b[38;5;28;01mimport\u001b[39;00m (\n\u001b[1;32m    155\u001b[0m     DatetimeIndex,\n\u001b[1;32m    156\u001b[0m     Index,\n\u001b[0;32m   (...)\u001b[0m\n\u001b[1;32m    160\u001b[0m     ensure_index_from_sequences,\n\u001b[1;32m    161\u001b[0m )\n",
      "File \u001b[0;32m~/.local/lib/python3.10/site-packages/pandas/core/generic.py:152\u001b[0m\n\u001b[1;32m    143\u001b[0m \u001b[38;5;28;01mfrom\u001b[39;00m \u001b[38;5;21;01mpandas\u001b[39;00m\u001b[38;5;21;01m.\u001b[39;00m\u001b[38;5;21;01mcore\u001b[39;00m\u001b[38;5;21;01m.\u001b[39;00m\u001b[38;5;21;01mdtypes\u001b[39;00m\u001b[38;5;21;01m.\u001b[39;00m\u001b[38;5;21;01minference\u001b[39;00m \u001b[38;5;28;01mimport\u001b[39;00m (\n\u001b[1;32m    144\u001b[0m     is_hashable,\n\u001b[1;32m    145\u001b[0m     is_nested_list_like,\n\u001b[1;32m    146\u001b[0m )\n\u001b[1;32m    147\u001b[0m \u001b[38;5;28;01mfrom\u001b[39;00m \u001b[38;5;21;01mpandas\u001b[39;00m\u001b[38;5;21;01m.\u001b[39;00m\u001b[38;5;21;01mcore\u001b[39;00m\u001b[38;5;21;01m.\u001b[39;00m\u001b[38;5;21;01mdtypes\u001b[39;00m\u001b[38;5;21;01m.\u001b[39;00m\u001b[38;5;21;01mmissing\u001b[39;00m \u001b[38;5;28;01mimport\u001b[39;00m (\n\u001b[1;32m    148\u001b[0m     isna,\n\u001b[1;32m    149\u001b[0m     notna,\n\u001b[1;32m    150\u001b[0m )\n\u001b[0;32m--> 152\u001b[0m \u001b[38;5;28;01mfrom\u001b[39;00m \u001b[38;5;21;01mpandas\u001b[39;00m\u001b[38;5;21;01m.\u001b[39;00m\u001b[38;5;21;01mcore\u001b[39;00m \u001b[38;5;28;01mimport\u001b[39;00m (\n\u001b[1;32m    153\u001b[0m     algorithms \u001b[38;5;28;01mas\u001b[39;00m algos,\n\u001b[1;32m    154\u001b[0m     arraylike,\n\u001b[1;32m    155\u001b[0m     common,\n\u001b[1;32m    156\u001b[0m     indexing,\n\u001b[1;32m    157\u001b[0m     missing,\n\u001b[1;32m    158\u001b[0m     nanops,\n\u001b[1;32m    159\u001b[0m     sample,\n\u001b[1;32m    160\u001b[0m )\n\u001b[1;32m    161\u001b[0m \u001b[38;5;28;01mfrom\u001b[39;00m \u001b[38;5;21;01mpandas\u001b[39;00m\u001b[38;5;21;01m.\u001b[39;00m\u001b[38;5;21;01mcore\u001b[39;00m\u001b[38;5;21;01m.\u001b[39;00m\u001b[38;5;21;01marray_algos\u001b[39;00m\u001b[38;5;21;01m.\u001b[39;00m\u001b[38;5;21;01mreplace\u001b[39;00m \u001b[38;5;28;01mimport\u001b[39;00m should_use_regex\n\u001b[1;32m    162\u001b[0m \u001b[38;5;28;01mfrom\u001b[39;00m \u001b[38;5;21;01mpandas\u001b[39;00m\u001b[38;5;21;01m.\u001b[39;00m\u001b[38;5;21;01mcore\u001b[39;00m\u001b[38;5;21;01m.\u001b[39;00m\u001b[38;5;21;01marrays\u001b[39;00m \u001b[38;5;28;01mimport\u001b[39;00m ExtensionArray\n",
      "File \u001b[0;32m~/.local/lib/python3.10/site-packages/pandas/core/indexing.py:79\u001b[0m\n\u001b[1;32m     69\u001b[0m \u001b[38;5;28;01mfrom\u001b[39;00m \u001b[38;5;21;01mpandas\u001b[39;00m\u001b[38;5;21;01m.\u001b[39;00m\u001b[38;5;21;01mcore\u001b[39;00m\u001b[38;5;21;01m.\u001b[39;00m\u001b[38;5;21;01mconstruction\u001b[39;00m \u001b[38;5;28;01mimport\u001b[39;00m (\n\u001b[1;32m     70\u001b[0m     array \u001b[38;5;28;01mas\u001b[39;00m pd_array,\n\u001b[1;32m     71\u001b[0m     extract_array,\n\u001b[1;32m     72\u001b[0m )\n\u001b[1;32m     73\u001b[0m \u001b[38;5;28;01mfrom\u001b[39;00m \u001b[38;5;21;01mpandas\u001b[39;00m\u001b[38;5;21;01m.\u001b[39;00m\u001b[38;5;21;01mcore\u001b[39;00m\u001b[38;5;21;01m.\u001b[39;00m\u001b[38;5;21;01mindexers\u001b[39;00m \u001b[38;5;28;01mimport\u001b[39;00m (\n\u001b[1;32m     74\u001b[0m     check_array_indexer,\n\u001b[1;32m     75\u001b[0m     is_list_like_indexer,\n\u001b[1;32m     76\u001b[0m     is_scalar_indexer,\n\u001b[1;32m     77\u001b[0m     length_of_indexer,\n\u001b[1;32m     78\u001b[0m )\n\u001b[0;32m---> 79\u001b[0m \u001b[38;5;28;01mfrom\u001b[39;00m \u001b[38;5;21;01mpandas\u001b[39;00m\u001b[38;5;21;01m.\u001b[39;00m\u001b[38;5;21;01mcore\u001b[39;00m\u001b[38;5;21;01m.\u001b[39;00m\u001b[38;5;21;01mindexes\u001b[39;00m\u001b[38;5;21;01m.\u001b[39;00m\u001b[38;5;21;01mapi\u001b[39;00m \u001b[38;5;28;01mimport\u001b[39;00m (\n\u001b[1;32m     80\u001b[0m     Index,\n\u001b[1;32m     81\u001b[0m     MultiIndex,\n\u001b[1;32m     82\u001b[0m )\n\u001b[1;32m     84\u001b[0m \u001b[38;5;28;01mif\u001b[39;00m TYPE_CHECKING:\n\u001b[1;32m     85\u001b[0m     \u001b[38;5;28;01mfrom\u001b[39;00m \u001b[38;5;21;01mcollections\u001b[39;00m\u001b[38;5;21;01m.\u001b[39;00m\u001b[38;5;21;01mabc\u001b[39;00m \u001b[38;5;28;01mimport\u001b[39;00m (\n\u001b[1;32m     86\u001b[0m         Hashable,\n\u001b[1;32m     87\u001b[0m         Sequence,\n\u001b[1;32m     88\u001b[0m     )\n",
      "File \u001b[0;32m~/.local/lib/python3.10/site-packages/pandas/core/indexes/api.py:20\u001b[0m\n\u001b[1;32m     17\u001b[0m \u001b[38;5;28;01mfrom\u001b[39;00m \u001b[38;5;21;01mpandas\u001b[39;00m\u001b[38;5;21;01m.\u001b[39;00m\u001b[38;5;21;01mcore\u001b[39;00m\u001b[38;5;21;01m.\u001b[39;00m\u001b[38;5;21;01mdtypes\u001b[39;00m\u001b[38;5;21;01m.\u001b[39;00m\u001b[38;5;21;01mcast\u001b[39;00m \u001b[38;5;28;01mimport\u001b[39;00m find_common_type\n\u001b[1;32m     19\u001b[0m \u001b[38;5;28;01mfrom\u001b[39;00m \u001b[38;5;21;01mpandas\u001b[39;00m\u001b[38;5;21;01m.\u001b[39;00m\u001b[38;5;21;01mcore\u001b[39;00m\u001b[38;5;21;01m.\u001b[39;00m\u001b[38;5;21;01malgorithms\u001b[39;00m \u001b[38;5;28;01mimport\u001b[39;00m safe_sort\n\u001b[0;32m---> 20\u001b[0m \u001b[38;5;28;01mfrom\u001b[39;00m \u001b[38;5;21;01mpandas\u001b[39;00m\u001b[38;5;21;01m.\u001b[39;00m\u001b[38;5;21;01mcore\u001b[39;00m\u001b[38;5;21;01m.\u001b[39;00m\u001b[38;5;21;01mindexes\u001b[39;00m\u001b[38;5;21;01m.\u001b[39;00m\u001b[38;5;21;01mbase\u001b[39;00m \u001b[38;5;28;01mimport\u001b[39;00m (\n\u001b[1;32m     21\u001b[0m     Index,\n\u001b[1;32m     22\u001b[0m     _new_Index,\n\u001b[1;32m     23\u001b[0m     ensure_index,\n\u001b[1;32m     24\u001b[0m     ensure_index_from_sequences,\n\u001b[1;32m     25\u001b[0m     get_unanimous_names,\n\u001b[1;32m     26\u001b[0m )\n\u001b[1;32m     27\u001b[0m \u001b[38;5;28;01mfrom\u001b[39;00m \u001b[38;5;21;01mpandas\u001b[39;00m\u001b[38;5;21;01m.\u001b[39;00m\u001b[38;5;21;01mcore\u001b[39;00m\u001b[38;5;21;01m.\u001b[39;00m\u001b[38;5;21;01mindexes\u001b[39;00m\u001b[38;5;21;01m.\u001b[39;00m\u001b[38;5;21;01mcategory\u001b[39;00m \u001b[38;5;28;01mimport\u001b[39;00m CategoricalIndex\n\u001b[1;32m     28\u001b[0m \u001b[38;5;28;01mfrom\u001b[39;00m \u001b[38;5;21;01mpandas\u001b[39;00m\u001b[38;5;21;01m.\u001b[39;00m\u001b[38;5;21;01mcore\u001b[39;00m\u001b[38;5;21;01m.\u001b[39;00m\u001b[38;5;21;01mindexes\u001b[39;00m\u001b[38;5;21;01m.\u001b[39;00m\u001b[38;5;21;01mdatetimes\u001b[39;00m \u001b[38;5;28;01mimport\u001b[39;00m DatetimeIndex\n",
      "File \u001b[0;32m~/.local/lib/python3.10/site-packages/pandas/core/indexes/base.py:29\u001b[0m\n\u001b[1;32m     21\u001b[0m \u001b[38;5;28;01mimport\u001b[39;00m \u001b[38;5;21;01mnumpy\u001b[39;00m \u001b[38;5;28;01mas\u001b[39;00m \u001b[38;5;21;01mnp\u001b[39;00m\n\u001b[1;32m     23\u001b[0m \u001b[38;5;28;01mfrom\u001b[39;00m \u001b[38;5;21;01mpandas\u001b[39;00m\u001b[38;5;21;01m.\u001b[39;00m\u001b[38;5;21;01m_config\u001b[39;00m \u001b[38;5;28;01mimport\u001b[39;00m (\n\u001b[1;32m     24\u001b[0m     get_option,\n\u001b[1;32m     25\u001b[0m     using_copy_on_write,\n\u001b[1;32m     26\u001b[0m     using_pyarrow_string_dtype,\n\u001b[1;32m     27\u001b[0m )\n\u001b[0;32m---> 29\u001b[0m \u001b[38;5;28;01mfrom\u001b[39;00m \u001b[38;5;21;01mpandas\u001b[39;00m\u001b[38;5;21;01m.\u001b[39;00m\u001b[38;5;21;01m_libs\u001b[39;00m \u001b[38;5;28;01mimport\u001b[39;00m (\n\u001b[1;32m     30\u001b[0m     NaT,\n\u001b[1;32m     31\u001b[0m     algos \u001b[38;5;28;01mas\u001b[39;00m libalgos,\n\u001b[1;32m     32\u001b[0m     index \u001b[38;5;28;01mas\u001b[39;00m libindex,\n\u001b[1;32m     33\u001b[0m     lib,\n\u001b[1;32m     34\u001b[0m     writers,\n\u001b[1;32m     35\u001b[0m )\n\u001b[1;32m     36\u001b[0m \u001b[38;5;28;01mfrom\u001b[39;00m \u001b[38;5;21;01mpandas\u001b[39;00m\u001b[38;5;21;01m.\u001b[39;00m\u001b[38;5;21;01m_libs\u001b[39;00m\u001b[38;5;21;01m.\u001b[39;00m\u001b[38;5;21;01minternals\u001b[39;00m \u001b[38;5;28;01mimport\u001b[39;00m BlockValuesRefs\n\u001b[1;32m     37\u001b[0m \u001b[38;5;28;01mimport\u001b[39;00m \u001b[38;5;21;01mpandas\u001b[39;00m\u001b[38;5;21;01m.\u001b[39;00m\u001b[38;5;21;01m_libs\u001b[39;00m\u001b[38;5;21;01m.\u001b[39;00m\u001b[38;5;21;01mjoin\u001b[39;00m \u001b[38;5;28;01mas\u001b[39;00m \u001b[38;5;21;01mlibjoin\u001b[39;00m\n",
      "File \u001b[0;32m<frozen importlib._bootstrap>:404\u001b[0m, in \u001b[0;36mparent\u001b[0;34m(self)\u001b[0m\n",
      "\u001b[0;31mKeyboardInterrupt\u001b[0m: "
     ]
    }
   ],
   "source": [
    "from sklearn.neural_network import MLPRegressor\n",
    "\n",
    "myNN = MLPRegressor(hidden_layer_sizes=(4, 4, 4), activation='tanh', solver='lbfgs', max_iter=5000, learning_rate_init=0.1) "
   ]
  },
  {
   "cell_type": "code",
   "execution_count": null,
   "metadata": {
    "ExecuteTime": {
     "end_time": "2024-11-08T15:10:18.361076Z",
     "start_time": "2024-11-08T15:10:16.356353Z"
    }
   },
   "outputs": [
    {
     "data": {
      "text/html": [
       "<style>#sk-container-id-2 {\n",
       "  /* Definition of color scheme common for light and dark mode */\n",
       "  --sklearn-color-text: black;\n",
       "  --sklearn-color-line: gray;\n",
       "  /* Definition of color scheme for unfitted estimators */\n",
       "  --sklearn-color-unfitted-level-0: #fff5e6;\n",
       "  --sklearn-color-unfitted-level-1: #f6e4d2;\n",
       "  --sklearn-color-unfitted-level-2: #ffe0b3;\n",
       "  --sklearn-color-unfitted-level-3: chocolate;\n",
       "  /* Definition of color scheme for fitted estimators */\n",
       "  --sklearn-color-fitted-level-0: #f0f8ff;\n",
       "  --sklearn-color-fitted-level-1: #d4ebff;\n",
       "  --sklearn-color-fitted-level-2: #b3dbfd;\n",
       "  --sklearn-color-fitted-level-3: cornflowerblue;\n",
       "\n",
       "  /* Specific color for light theme */\n",
       "  --sklearn-color-text-on-default-background: var(--sg-text-color, var(--theme-code-foreground, var(--jp-content-font-color1, black)));\n",
       "  --sklearn-color-background: var(--sg-background-color, var(--theme-background, var(--jp-layout-color0, white)));\n",
       "  --sklearn-color-border-box: var(--sg-text-color, var(--theme-code-foreground, var(--jp-content-font-color1, black)));\n",
       "  --sklearn-color-icon: #696969;\n",
       "\n",
       "  @media (prefers-color-scheme: dark) {\n",
       "    /* Redefinition of color scheme for dark theme */\n",
       "    --sklearn-color-text-on-default-background: var(--sg-text-color, var(--theme-code-foreground, var(--jp-content-font-color1, white)));\n",
       "    --sklearn-color-background: var(--sg-background-color, var(--theme-background, var(--jp-layout-color0, #111)));\n",
       "    --sklearn-color-border-box: var(--sg-text-color, var(--theme-code-foreground, var(--jp-content-font-color1, white)));\n",
       "    --sklearn-color-icon: #878787;\n",
       "  }\n",
       "}\n",
       "\n",
       "#sk-container-id-2 {\n",
       "  color: var(--sklearn-color-text);\n",
       "}\n",
       "\n",
       "#sk-container-id-2 pre {\n",
       "  padding: 0;\n",
       "}\n",
       "\n",
       "#sk-container-id-2 input.sk-hidden--visually {\n",
       "  border: 0;\n",
       "  clip: rect(1px 1px 1px 1px);\n",
       "  clip: rect(1px, 1px, 1px, 1px);\n",
       "  height: 1px;\n",
       "  margin: -1px;\n",
       "  overflow: hidden;\n",
       "  padding: 0;\n",
       "  position: absolute;\n",
       "  width: 1px;\n",
       "}\n",
       "\n",
       "#sk-container-id-2 div.sk-dashed-wrapped {\n",
       "  border: 1px dashed var(--sklearn-color-line);\n",
       "  margin: 0 0.4em 0.5em 0.4em;\n",
       "  box-sizing: border-box;\n",
       "  padding-bottom: 0.4em;\n",
       "  background-color: var(--sklearn-color-background);\n",
       "}\n",
       "\n",
       "#sk-container-id-2 div.sk-container {\n",
       "  /* jupyter's `normalize.less` sets `[hidden] { display: none; }`\n",
       "     but bootstrap.min.css set `[hidden] { display: none !important; }`\n",
       "     so we also need the `!important` here to be able to override the\n",
       "     default hidden behavior on the sphinx rendered scikit-learn.org.\n",
       "     See: https://github.com/scikit-learn/scikit-learn/issues/21755 */\n",
       "  display: inline-block !important;\n",
       "  position: relative;\n",
       "}\n",
       "\n",
       "#sk-container-id-2 div.sk-text-repr-fallback {\n",
       "  display: none;\n",
       "}\n",
       "\n",
       "div.sk-parallel-item,\n",
       "div.sk-serial,\n",
       "div.sk-item {\n",
       "  /* draw centered vertical line to link estimators */\n",
       "  background-image: linear-gradient(var(--sklearn-color-text-on-default-background), var(--sklearn-color-text-on-default-background));\n",
       "  background-size: 2px 100%;\n",
       "  background-repeat: no-repeat;\n",
       "  background-position: center center;\n",
       "}\n",
       "\n",
       "/* Parallel-specific style estimator block */\n",
       "\n",
       "#sk-container-id-2 div.sk-parallel-item::after {\n",
       "  content: \"\";\n",
       "  width: 100%;\n",
       "  border-bottom: 2px solid var(--sklearn-color-text-on-default-background);\n",
       "  flex-grow: 1;\n",
       "}\n",
       "\n",
       "#sk-container-id-2 div.sk-parallel {\n",
       "  display: flex;\n",
       "  align-items: stretch;\n",
       "  justify-content: center;\n",
       "  background-color: var(--sklearn-color-background);\n",
       "  position: relative;\n",
       "}\n",
       "\n",
       "#sk-container-id-2 div.sk-parallel-item {\n",
       "  display: flex;\n",
       "  flex-direction: column;\n",
       "}\n",
       "\n",
       "#sk-container-id-2 div.sk-parallel-item:first-child::after {\n",
       "  align-self: flex-end;\n",
       "  width: 50%;\n",
       "}\n",
       "\n",
       "#sk-container-id-2 div.sk-parallel-item:last-child::after {\n",
       "  align-self: flex-start;\n",
       "  width: 50%;\n",
       "}\n",
       "\n",
       "#sk-container-id-2 div.sk-parallel-item:only-child::after {\n",
       "  width: 0;\n",
       "}\n",
       "\n",
       "/* Serial-specific style estimator block */\n",
       "\n",
       "#sk-container-id-2 div.sk-serial {\n",
       "  display: flex;\n",
       "  flex-direction: column;\n",
       "  align-items: center;\n",
       "  background-color: var(--sklearn-color-background);\n",
       "  padding-right: 1em;\n",
       "  padding-left: 1em;\n",
       "}\n",
       "\n",
       "\n",
       "/* Toggleable style: style used for estimator/Pipeline/ColumnTransformer box that is\n",
       "clickable and can be expanded/collapsed.\n",
       "- Pipeline and ColumnTransformer use this feature and define the default style\n",
       "- Estimators will overwrite some part of the style using the `sk-estimator` class\n",
       "*/\n",
       "\n",
       "/* Pipeline and ColumnTransformer style (default) */\n",
       "\n",
       "#sk-container-id-2 div.sk-toggleable {\n",
       "  /* Default theme specific background. It is overwritten whether we have a\n",
       "  specific estimator or a Pipeline/ColumnTransformer */\n",
       "  background-color: var(--sklearn-color-background);\n",
       "}\n",
       "\n",
       "/* Toggleable label */\n",
       "#sk-container-id-2 label.sk-toggleable__label {\n",
       "  cursor: pointer;\n",
       "  display: block;\n",
       "  width: 100%;\n",
       "  margin-bottom: 0;\n",
       "  padding: 0.5em;\n",
       "  box-sizing: border-box;\n",
       "  text-align: center;\n",
       "}\n",
       "\n",
       "#sk-container-id-2 label.sk-toggleable__label-arrow:before {\n",
       "  /* Arrow on the left of the label */\n",
       "  content: \"▸\";\n",
       "  float: left;\n",
       "  margin-right: 0.25em;\n",
       "  color: var(--sklearn-color-icon);\n",
       "}\n",
       "\n",
       "#sk-container-id-2 label.sk-toggleable__label-arrow:hover:before {\n",
       "  color: var(--sklearn-color-text);\n",
       "}\n",
       "\n",
       "/* Toggleable content - dropdown */\n",
       "\n",
       "#sk-container-id-2 div.sk-toggleable__content {\n",
       "  max-height: 0;\n",
       "  max-width: 0;\n",
       "  overflow: hidden;\n",
       "  text-align: left;\n",
       "  /* unfitted */\n",
       "  background-color: var(--sklearn-color-unfitted-level-0);\n",
       "}\n",
       "\n",
       "#sk-container-id-2 div.sk-toggleable__content.fitted {\n",
       "  /* fitted */\n",
       "  background-color: var(--sklearn-color-fitted-level-0);\n",
       "}\n",
       "\n",
       "#sk-container-id-2 div.sk-toggleable__content pre {\n",
       "  margin: 0.2em;\n",
       "  border-radius: 0.25em;\n",
       "  color: var(--sklearn-color-text);\n",
       "  /* unfitted */\n",
       "  background-color: var(--sklearn-color-unfitted-level-0);\n",
       "}\n",
       "\n",
       "#sk-container-id-2 div.sk-toggleable__content.fitted pre {\n",
       "  /* unfitted */\n",
       "  background-color: var(--sklearn-color-fitted-level-0);\n",
       "}\n",
       "\n",
       "#sk-container-id-2 input.sk-toggleable__control:checked~div.sk-toggleable__content {\n",
       "  /* Expand drop-down */\n",
       "  max-height: 200px;\n",
       "  max-width: 100%;\n",
       "  overflow: auto;\n",
       "}\n",
       "\n",
       "#sk-container-id-2 input.sk-toggleable__control:checked~label.sk-toggleable__label-arrow:before {\n",
       "  content: \"▾\";\n",
       "}\n",
       "\n",
       "/* Pipeline/ColumnTransformer-specific style */\n",
       "\n",
       "#sk-container-id-2 div.sk-label input.sk-toggleable__control:checked~label.sk-toggleable__label {\n",
       "  color: var(--sklearn-color-text);\n",
       "  background-color: var(--sklearn-color-unfitted-level-2);\n",
       "}\n",
       "\n",
       "#sk-container-id-2 div.sk-label.fitted input.sk-toggleable__control:checked~label.sk-toggleable__label {\n",
       "  background-color: var(--sklearn-color-fitted-level-2);\n",
       "}\n",
       "\n",
       "/* Estimator-specific style */\n",
       "\n",
       "/* Colorize estimator box */\n",
       "#sk-container-id-2 div.sk-estimator input.sk-toggleable__control:checked~label.sk-toggleable__label {\n",
       "  /* unfitted */\n",
       "  background-color: var(--sklearn-color-unfitted-level-2);\n",
       "}\n",
       "\n",
       "#sk-container-id-2 div.sk-estimator.fitted input.sk-toggleable__control:checked~label.sk-toggleable__label {\n",
       "  /* fitted */\n",
       "  background-color: var(--sklearn-color-fitted-level-2);\n",
       "}\n",
       "\n",
       "#sk-container-id-2 div.sk-label label.sk-toggleable__label,\n",
       "#sk-container-id-2 div.sk-label label {\n",
       "  /* The background is the default theme color */\n",
       "  color: var(--sklearn-color-text-on-default-background);\n",
       "}\n",
       "\n",
       "/* On hover, darken the color of the background */\n",
       "#sk-container-id-2 div.sk-label:hover label.sk-toggleable__label {\n",
       "  color: var(--sklearn-color-text);\n",
       "  background-color: var(--sklearn-color-unfitted-level-2);\n",
       "}\n",
       "\n",
       "/* Label box, darken color on hover, fitted */\n",
       "#sk-container-id-2 div.sk-label.fitted:hover label.sk-toggleable__label.fitted {\n",
       "  color: var(--sklearn-color-text);\n",
       "  background-color: var(--sklearn-color-fitted-level-2);\n",
       "}\n",
       "\n",
       "/* Estimator label */\n",
       "\n",
       "#sk-container-id-2 div.sk-label label {\n",
       "  font-family: monospace;\n",
       "  font-weight: bold;\n",
       "  display: inline-block;\n",
       "  line-height: 1.2em;\n",
       "}\n",
       "\n",
       "#sk-container-id-2 div.sk-label-container {\n",
       "  text-align: center;\n",
       "}\n",
       "\n",
       "/* Estimator-specific */\n",
       "#sk-container-id-2 div.sk-estimator {\n",
       "  font-family: monospace;\n",
       "  border: 1px dotted var(--sklearn-color-border-box);\n",
       "  border-radius: 0.25em;\n",
       "  box-sizing: border-box;\n",
       "  margin-bottom: 0.5em;\n",
       "  /* unfitted */\n",
       "  background-color: var(--sklearn-color-unfitted-level-0);\n",
       "}\n",
       "\n",
       "#sk-container-id-2 div.sk-estimator.fitted {\n",
       "  /* fitted */\n",
       "  background-color: var(--sklearn-color-fitted-level-0);\n",
       "}\n",
       "\n",
       "/* on hover */\n",
       "#sk-container-id-2 div.sk-estimator:hover {\n",
       "  /* unfitted */\n",
       "  background-color: var(--sklearn-color-unfitted-level-2);\n",
       "}\n",
       "\n",
       "#sk-container-id-2 div.sk-estimator.fitted:hover {\n",
       "  /* fitted */\n",
       "  background-color: var(--sklearn-color-fitted-level-2);\n",
       "}\n",
       "\n",
       "/* Specification for estimator info (e.g. \"i\" and \"?\") */\n",
       "\n",
       "/* Common style for \"i\" and \"?\" */\n",
       "\n",
       ".sk-estimator-doc-link,\n",
       "a:link.sk-estimator-doc-link,\n",
       "a:visited.sk-estimator-doc-link {\n",
       "  float: right;\n",
       "  font-size: smaller;\n",
       "  line-height: 1em;\n",
       "  font-family: monospace;\n",
       "  background-color: var(--sklearn-color-background);\n",
       "  border-radius: 1em;\n",
       "  height: 1em;\n",
       "  width: 1em;\n",
       "  text-decoration: none !important;\n",
       "  margin-left: 1ex;\n",
       "  /* unfitted */\n",
       "  border: var(--sklearn-color-unfitted-level-1) 1pt solid;\n",
       "  color: var(--sklearn-color-unfitted-level-1);\n",
       "}\n",
       "\n",
       ".sk-estimator-doc-link.fitted,\n",
       "a:link.sk-estimator-doc-link.fitted,\n",
       "a:visited.sk-estimator-doc-link.fitted {\n",
       "  /* fitted */\n",
       "  border: var(--sklearn-color-fitted-level-1) 1pt solid;\n",
       "  color: var(--sklearn-color-fitted-level-1);\n",
       "}\n",
       "\n",
       "/* On hover */\n",
       "div.sk-estimator:hover .sk-estimator-doc-link:hover,\n",
       ".sk-estimator-doc-link:hover,\n",
       "div.sk-label-container:hover .sk-estimator-doc-link:hover,\n",
       ".sk-estimator-doc-link:hover {\n",
       "  /* unfitted */\n",
       "  background-color: var(--sklearn-color-unfitted-level-3);\n",
       "  color: var(--sklearn-color-background);\n",
       "  text-decoration: none;\n",
       "}\n",
       "\n",
       "div.sk-estimator.fitted:hover .sk-estimator-doc-link.fitted:hover,\n",
       ".sk-estimator-doc-link.fitted:hover,\n",
       "div.sk-label-container:hover .sk-estimator-doc-link.fitted:hover,\n",
       ".sk-estimator-doc-link.fitted:hover {\n",
       "  /* fitted */\n",
       "  background-color: var(--sklearn-color-fitted-level-3);\n",
       "  color: var(--sklearn-color-background);\n",
       "  text-decoration: none;\n",
       "}\n",
       "\n",
       "/* Span, style for the box shown on hovering the info icon */\n",
       ".sk-estimator-doc-link span {\n",
       "  display: none;\n",
       "  z-index: 9999;\n",
       "  position: relative;\n",
       "  font-weight: normal;\n",
       "  right: .2ex;\n",
       "  padding: .5ex;\n",
       "  margin: .5ex;\n",
       "  width: min-content;\n",
       "  min-width: 20ex;\n",
       "  max-width: 50ex;\n",
       "  color: var(--sklearn-color-text);\n",
       "  box-shadow: 2pt 2pt 4pt #999;\n",
       "  /* unfitted */\n",
       "  background: var(--sklearn-color-unfitted-level-0);\n",
       "  border: .5pt solid var(--sklearn-color-unfitted-level-3);\n",
       "}\n",
       "\n",
       ".sk-estimator-doc-link.fitted span {\n",
       "  /* fitted */\n",
       "  background: var(--sklearn-color-fitted-level-0);\n",
       "  border: var(--sklearn-color-fitted-level-3);\n",
       "}\n",
       "\n",
       ".sk-estimator-doc-link:hover span {\n",
       "  display: block;\n",
       "}\n",
       "\n",
       "/* \"?\"-specific style due to the `<a>` HTML tag */\n",
       "\n",
       "#sk-container-id-2 a.estimator_doc_link {\n",
       "  float: right;\n",
       "  font-size: 1rem;\n",
       "  line-height: 1em;\n",
       "  font-family: monospace;\n",
       "  background-color: var(--sklearn-color-background);\n",
       "  border-radius: 1rem;\n",
       "  height: 1rem;\n",
       "  width: 1rem;\n",
       "  text-decoration: none;\n",
       "  /* unfitted */\n",
       "  color: var(--sklearn-color-unfitted-level-1);\n",
       "  border: var(--sklearn-color-unfitted-level-1) 1pt solid;\n",
       "}\n",
       "\n",
       "#sk-container-id-2 a.estimator_doc_link.fitted {\n",
       "  /* fitted */\n",
       "  border: var(--sklearn-color-fitted-level-1) 1pt solid;\n",
       "  color: var(--sklearn-color-fitted-level-1);\n",
       "}\n",
       "\n",
       "/* On hover */\n",
       "#sk-container-id-2 a.estimator_doc_link:hover {\n",
       "  /* unfitted */\n",
       "  background-color: var(--sklearn-color-unfitted-level-3);\n",
       "  color: var(--sklearn-color-background);\n",
       "  text-decoration: none;\n",
       "}\n",
       "\n",
       "#sk-container-id-2 a.estimator_doc_link.fitted:hover {\n",
       "  /* fitted */\n",
       "  background-color: var(--sklearn-color-fitted-level-3);\n",
       "}\n",
       "</style><div id=\"sk-container-id-2\" class=\"sk-top-container\"><div class=\"sk-text-repr-fallback\"><pre>MLPRegressor(activation=&#x27;tanh&#x27;, hidden_layer_sizes=(4, 4, 4),\n",
       "             learning_rate_init=0.1, max_iter=5000, solver=&#x27;lbfgs&#x27;)</pre><b>In a Jupyter environment, please rerun this cell to show the HTML representation or trust the notebook. <br />On GitHub, the HTML representation is unable to render, please try loading this page with nbviewer.org.</b></div><div class=\"sk-container\" hidden><div class=\"sk-item\"><div class=\"sk-estimator fitted sk-toggleable\"><input class=\"sk-toggleable__control sk-hidden--visually\" id=\"sk-estimator-id-2\" type=\"checkbox\" checked><label for=\"sk-estimator-id-2\" class=\"sk-toggleable__label fitted sk-toggleable__label-arrow fitted\">&nbsp;&nbsp;MLPRegressor<a class=\"sk-estimator-doc-link fitted\" rel=\"noreferrer\" target=\"_blank\" href=\"https://scikit-learn.org/1.5/modules/generated/sklearn.neural_network.MLPRegressor.html\">?<span>Documentation for MLPRegressor</span></a><span class=\"sk-estimator-doc-link fitted\">i<span>Fitted</span></span></label><div class=\"sk-toggleable__content fitted\"><pre>MLPRegressor(activation=&#x27;tanh&#x27;, hidden_layer_sizes=(4, 4, 4),\n",
       "             learning_rate_init=0.1, max_iter=5000, solver=&#x27;lbfgs&#x27;)</pre></div> </div></div></div></div>"
      ],
      "text/plain": [
       "MLPRegressor(activation='tanh', hidden_layer_sizes=(4, 4, 4),\n",
       "             learning_rate_init=0.1, max_iter=5000, solver='lbfgs')"
      ]
     },
     "execution_count": 45,
     "metadata": {},
     "output_type": "execute_result"
    }
   ],
   "source": [
    "myNN.fit(X,Y)"
   ]
  },
  {
   "cell_type": "code",
   "execution_count": null,
   "metadata": {
    "ExecuteTime": {
     "end_time": "2024-11-08T15:10:18.552480Z",
     "start_time": "2024-11-08T15:10:18.391156Z"
    }
   },
   "outputs": [
    {
     "data": {
      "image/png": "[encoded data removed]",
      "text/plain": [
       "<Figure size 800x800 with 1 Axes>"
      ]
     },
     "metadata": {},
     "output_type": "display_data"
    }
   ],
   "source": [
    "ypredict = myNN.predict(X)\n",
    "\n",
    "fig=plt.figure(figsize=(10,10), dpi=80, facecolor='w', edgecolor='k')\n",
    "plt.plot(X.ravel(), Y.ravel(), 'r.', markersize=10, label=u'Observations')\n",
    "plt.plot(x, func(x), 'b', label=u'$f(x) = x\\,\\sin(x)$')\n",
    "plt.plot(X, ypredict, 'g', label=u'$f(x) = NN(x)$')\n",
    "plt.xlabel('$x$')\n",
    "plt.ylabel('$f(x)$')\n",
    "plt.ylim(-6, 10)\n",
    "plt.legend(loc='upper left');"
   ]
  },
  {
   "cell_type": "markdown",
   "metadata": {},
   "source": [
    "A bit unconvincing but very sensitive to the choice of hyperparameters in `MLPRegressor`. We are going to focus on the classification case and will use the PyTorch API in the next part of this class, but this first example contains many warnings. Although appealing for their many good properties (trainable online, scalable to large datasets and dimensions, versatile), neural networks can be hard to tune and are prone to overfitting (or underfitting) if nothing is done to prevent it. Also, the current scikit-learn implementation is maybe not the most adapted tool for neural networks."
   ]
  },
  {
   "cell_type": "markdown",
   "metadata": {},
   "source": [
    "# 6. <a id=\"sec6\"></a>Neural networks for classification\n",
    "\n",
    "The derivation we have written above can be repeated for other loss functions. In particular, for classification tasks, if one has $K$ classes with $p_k$ the target classes probabilities for input $x$, the cross-entropy loss fonction is commonly used in classification:\n",
    "$$L(\\theta) = \\sum_{k=1}^K p_k \\log f_\\theta(x)$$\n",
    "\n",
    "Scikit-learn offers an easy API for classification as illustrated below, but its flexibility remains limited and PyTorch offers a great API that we shall use in the next part of this class."
   ]
  },
  {
   "cell_type": "code",
   "execution_count": null,
   "metadata": {
    "ExecuteTime": {
     "end_time": "2024-11-08T15:10:22.086489Z",
     "start_time": "2024-11-08T15:10:18.576800Z"
    }
   },
   "outputs": [
    {
     "name": "stderr",
     "output_type": "stream",
     "text": [
      "[nltk_data] Downloading package stopwords to /home/vscode/nltk_data...\n",
      "[nltk_data]   Unzipping corpora/stopwords.zip.\n",
      "[nltk_data] Downloading package words to /home/vscode/nltk_data...\n",
      "[nltk_data]   Unzipping corpora/words.zip.\n",
      "[nltk_data] Downloading package wordnet to /home/vscode/nltk_data...\n",
      "/home/vscode/.local/lib/python3.10/site-packages/sklearn/feature_extraction/text.py:521: UserWarning: The parameter 'token_pattern' will not be used since 'tokenizer' is not None'\n",
      "  warnings.warn(\n"
     ]
    }
   ],
   "source": [
    "from sys import path\n",
    "path.append('.')\n",
    "import load_spam\n",
    "spam_data = load_spam.spam_data_loader()\n",
    "spam_data.load_data()\n",
    "\n",
    "Xtrain, ytrain, Xtest, ytest = spam_data.split(2000)"
   ]
  },
  {
   "cell_type": "code",
   "execution_count": null,
   "metadata": {
    "ExecuteTime": {
     "end_time": "2024-11-08T15:10:22.118620Z",
     "start_time": "2024-11-08T15:10:22.114121Z"
    }
   },
   "outputs": [
    {
     "data": {
      "text/plain": [
       "<Compressed Sparse Row sparse matrix of dtype 'float64'\n",
       "\twith 99 stored elements and shape (1, 14282)>"
      ]
     },
     "execution_count": 2,
     "metadata": {},
     "output_type": "execute_result"
    }
   ],
   "source": [
    "Xtest[1]"
   ]
  },
  {
   "cell_type": "code",
   "execution_count": null,
   "metadata": {
    "ExecuteTime": {
     "end_time": "2024-11-08T15:10:26.745389Z",
     "start_time": "2024-11-08T15:10:22.225406Z"
    }
   },
   "outputs": [
    {
     "data": {
      "text/plain": [
       "0.9932810750279956"
      ]
     },
     "execution_count": 78,
     "metadata": {},
     "output_type": "execute_result"
    }
   ],
   "source": [
    "from sklearn.neural_network import MLPClassifier\n",
    "\n",
    "myNN = MLPClassifier(\n",
    "    hidden_layer_sizes=(4, 2), \n",
    "    activation='logistic', \n",
    "    learning_rate_init=0.01,\n",
    "    solver='adam')\n",
    "myNN.fit(Xtrain, ytrain)\n",
    "myNN.score(Xtest,ytest)"
   ]
  },
  {
   "cell_type": "code",
   "execution_count": null,
   "metadata": {
    "ExecuteTime": {
     "end_time": "2024-11-08T15:10:26.830947Z",
     "start_time": "2024-11-08T15:10:26.820522Z"
    }
   },
   "outputs": [
    {
     "data": {
      "text/plain": [
       "0.9910414333706606"
      ]
     },
     "execution_count": 55,
     "metadata": {},
     "output_type": "execute_result"
    }
   ],
   "source": [
    "myNN.score(Xtest,ytest)"
   ]
  },
  {
   "cell_type": "markdown",
   "metadata": {},
   "source": [
    "The classification accuracy is already excellent."
   ]
  },
  {
   "cell_type": "code",
   "execution_count": null,
   "metadata": {
    "ExecuteTime": {
     "end_time": "2024-11-08T15:10:26.871811Z",
     "start_time": "2024-11-08T15:10:26.868558Z"
    }
   },
   "outputs": [],
   "source": []
  }
 ],
 "metadata": {
  "@webio": {
   "lastCommId": null,
   "lastKernelId": null
  },
  "kernelspec": {
   "display_name": "Python 3",
   "language": "python",
   "name": "python3"
  },
  "language_info": {
   "codemirror_mode": {
    "name": "ipython",
    "version": 3
   },
   "file_extension": ".py",
   "mimetype": "text/x-python",
   "name": "python",
   "nbconvert_exporter": "python",
   "pygments_lexer": "ipython3",
   "version": "3.10.12"
  },
  "toc": {
   "base_numbering": 1,
   "nav_menu": {},
   "number_sections": true,
   "sideBar": true,
   "skip_h1_title": false,
   "title_cell": "Table of Contents",
   "title_sidebar": "Contents",
   "toc_cell": false,
   "toc_position": {
    "height": "calc(100% - 180px)",
    "left": "10px",
    "top": "150px",
    "width": "165px"
   },
   "toc_section_display": true,
   "toc_window_display": true
  }
 },
 "nbformat": 4,
 "nbformat_minor": 4
}
